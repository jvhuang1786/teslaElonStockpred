{
 "cells": [
  {
   "cell_type": "code",
   "execution_count": 10,
   "metadata": {},
   "outputs": [],
   "source": [
    "import pandas as pd\n",
    "import numpy as np "
   ]
  },
  {
   "cell_type": "code",
   "execution_count": 59,
   "metadata": {},
   "outputs": [],
   "source": [
    "df = pd.read_json('data/tweetBizPer.json')"
   ]
  },
  {
   "cell_type": "code",
   "execution_count": 60,
   "metadata": {},
   "outputs": [
    {
     "data": {
      "text/html": [
       "<div>\n",
       "<style scoped>\n",
       "    .dataframe tbody tr th:only-of-type {\n",
       "        vertical-align: middle;\n",
       "    }\n",
       "\n",
       "    .dataframe tbody tr th {\n",
       "        vertical-align: top;\n",
       "    }\n",
       "\n",
       "    .dataframe thead th {\n",
       "        text-align: right;\n",
       "    }\n",
       "</style>\n",
       "<table border=\"1\" class=\"dataframe\">\n",
       "  <thead>\n",
       "    <tr style=\"text-align: right;\">\n",
       "      <th></th>\n",
       "      <th>date</th>\n",
       "      <th>tweet</th>\n",
       "      <th>retweet_count</th>\n",
       "      <th>fav_count</th>\n",
       "      <th>tweetBiz</th>\n",
       "    </tr>\n",
       "  </thead>\n",
       "  <tbody>\n",
       "    <tr>\n",
       "      <th>0</th>\n",
       "      <td>2020-08-02</td>\n",
       "      <td>Nosecone closing is recommended, but not requi...</td>\n",
       "      <td>67</td>\n",
       "      <td>2339</td>\n",
       "      <td>0</td>\n",
       "    </tr>\n",
       "    <tr>\n",
       "      <th>1</th>\n",
       "      <td>2020-08-02</td>\n",
       "      <td>When space travel becomes as common as air tra...</td>\n",
       "      <td>23761</td>\n",
       "      <td>212331</td>\n",
       "      <td>0</td>\n",
       "    </tr>\n",
       "    <tr>\n",
       "      <th>2</th>\n",
       "      <td>2020-08-02</td>\n",
       "      <td>Space is the new air</td>\n",
       "      <td>1026</td>\n",
       "      <td>14007</td>\n",
       "      <td>0</td>\n",
       "    </tr>\n",
       "    <tr>\n",
       "      <th>3</th>\n",
       "      <td>2020-08-02</td>\n",
       "      <td>Congratulations @SpaceX &amp;amp; @NASA on complet...</td>\n",
       "      <td>18489</td>\n",
       "      <td>204600</td>\n",
       "      <td>1</td>\n",
       "    </tr>\n",
       "    <tr>\n",
       "      <th>4</th>\n",
       "      <td>2020-08-02</td>\n",
       "      <td>Dragon is stable in the water</td>\n",
       "      <td>16478</td>\n",
       "      <td>261192</td>\n",
       "      <td>1</td>\n",
       "    </tr>\n",
       "    <tr>\n",
       "      <th>...</th>\n",
       "      <td>...</td>\n",
       "      <td>...</td>\n",
       "      <td>...</td>\n",
       "      <td>...</td>\n",
       "      <td>...</td>\n",
       "    </tr>\n",
       "    <tr>\n",
       "      <th>10514</th>\n",
       "      <td>2011-12-03</td>\n",
       "      <td>That was a total non sequitur btw</td>\n",
       "      <td>4</td>\n",
       "      <td>7</td>\n",
       "      <td>0</td>\n",
       "    </tr>\n",
       "    <tr>\n",
       "      <th>10515</th>\n",
       "      <td>2011-12-03</td>\n",
       "      <td>Great Voltaire quote, arguably better than Twa...</td>\n",
       "      <td>25</td>\n",
       "      <td>29</td>\n",
       "      <td>1</td>\n",
       "    </tr>\n",
       "    <tr>\n",
       "      <th>10516</th>\n",
       "      <td>2011-12-01</td>\n",
       "      <td>I made the volume on the Model S http://ow.ly/...</td>\n",
       "      <td>8</td>\n",
       "      <td>23</td>\n",
       "      <td>1</td>\n",
       "    </tr>\n",
       "    <tr>\n",
       "      <th>10517</th>\n",
       "      <td>2011-12-01</td>\n",
       "      <td>Went to Iceland on Sat to ride bumper cars on ...</td>\n",
       "      <td>18</td>\n",
       "      <td>165</td>\n",
       "      <td>0</td>\n",
       "    </tr>\n",
       "    <tr>\n",
       "      <th>10518</th>\n",
       "      <td>2010-06-04</td>\n",
       "      <td>Please ignore prior tweets, as that was someon...</td>\n",
       "      <td>130</td>\n",
       "      <td>523</td>\n",
       "      <td>0</td>\n",
       "    </tr>\n",
       "  </tbody>\n",
       "</table>\n",
       "<p>10519 rows × 5 columns</p>\n",
       "</div>"
      ],
      "text/plain": [
       "            date                                              tweet  \\\n",
       "0     2020-08-02  Nosecone closing is recommended, but not requi...   \n",
       "1     2020-08-02  When space travel becomes as common as air tra...   \n",
       "2     2020-08-02                               Space is the new air   \n",
       "3     2020-08-02  Congratulations @SpaceX &amp; @NASA on complet...   \n",
       "4     2020-08-02                      Dragon is stable in the water   \n",
       "...          ...                                                ...   \n",
       "10514 2011-12-03                  That was a total non sequitur btw   \n",
       "10515 2011-12-03  Great Voltaire quote, arguably better than Twa...   \n",
       "10516 2011-12-01  I made the volume on the Model S http://ow.ly/...   \n",
       "10517 2011-12-01  Went to Iceland on Sat to ride bumper cars on ...   \n",
       "10518 2010-06-04  Please ignore prior tweets, as that was someon...   \n",
       "\n",
       "       retweet_count  fav_count tweetBiz  \n",
       "0                 67       2339        0  \n",
       "1              23761     212331        0  \n",
       "2               1026      14007        0  \n",
       "3              18489     204600        1  \n",
       "4              16478     261192        1  \n",
       "...              ...        ...      ...  \n",
       "10514              4          7        0  \n",
       "10515             25         29        1  \n",
       "10516              8         23        1  \n",
       "10517             18        165        0  \n",
       "10518            130        523        0  \n",
       "\n",
       "[10519 rows x 5 columns]"
      ]
     },
     "execution_count": 60,
     "metadata": {},
     "output_type": "execute_result"
    }
   ],
   "source": [
    "df"
   ]
  },
  {
   "cell_type": "code",
   "execution_count": 61,
   "metadata": {},
   "outputs": [
    {
     "data": {
      "text/plain": [
       "date               0\n",
       "tweet            110\n",
       "retweet_count      0\n",
       "fav_count          0\n",
       "tweetBiz           0\n",
       "dtype: int64"
      ]
     },
     "execution_count": 61,
     "metadata": {},
     "output_type": "execute_result"
    }
   ],
   "source": [
    "df.isnull().sum()"
   ]
  },
  {
   "cell_type": "code",
   "execution_count": 62,
   "metadata": {},
   "outputs": [
    {
     "data": {
      "text/plain": [
       "array([0, 1, '1', '0', '`'], dtype=object)"
      ]
     },
     "execution_count": 62,
     "metadata": {},
     "output_type": "execute_result"
    }
   ],
   "source": [
    "df.tweetBiz.unique()"
   ]
  },
  {
   "cell_type": "code",
   "execution_count": 19,
   "metadata": {},
   "outputs": [
    {
     "data": {
      "text/plain": [
       "0        Nosecone closing is recommended, but not requi...\n",
       "1        When space travel becomes as common as air tra...\n",
       "2                                     Space is the new air\n",
       "3        Congratulations @SpaceX &amp; @NASA on complet...\n",
       "4                            Dragon is stable in the water\n",
       "                               ...                        \n",
       "10514                    That was a total non sequitur btw\n",
       "10515    Great Voltaire quote, arguably better than Twa...\n",
       "10516    I made the volume on the Model S http://ow.ly/...\n",
       "10517    Went to Iceland on Sat to ride bumper cars on ...\n",
       "10518    Please ignore prior tweets, as that was someon...\n",
       "Name: tweet, Length: 10519, dtype: object"
      ]
     },
     "execution_count": 19,
     "metadata": {},
     "output_type": "execute_result"
    }
   ],
   "source": [
    "df['tweet'].replace('None', '')"
   ]
  },
  {
   "cell_type": "code",
   "execution_count": 66,
   "metadata": {},
   "outputs": [],
   "source": [
    "df.tweetBiz = df.tweetBiz.replace('`', 1)\n",
    "df.tweetBiz = df.tweetBiz.replace('1', 1)\n",
    "df.tweetBiz = df.tweetBiz.replace('0', 0)"
   ]
  },
  {
   "cell_type": "code",
   "execution_count": 67,
   "metadata": {},
   "outputs": [],
   "source": [
    "df = df.dropna()"
   ]
  },
  {
   "cell_type": "code",
   "execution_count": 68,
   "metadata": {},
   "outputs": [],
   "source": [
    "df = df.iloc[18:,:]"
   ]
  },
  {
   "cell_type": "code",
   "execution_count": 71,
   "metadata": {},
   "outputs": [],
   "source": [
    "from sklearn.model_selection import train_test_split\n",
    "from sklearn.feature_extraction.text import TfidfVectorizer, CountVectorizer\n",
    "from sklearn.compose import make_column_transformer\n",
    "from sklearn.pipeline import make_pipeline\n",
    "random_state = 777"
   ]
  },
  {
   "cell_type": "code",
   "execution_count": 72,
   "metadata": {},
   "outputs": [],
   "source": [
    "import nltk\n",
    "from bs4 import BeautifulSoup\n",
    "import re\n",
    "import warnings\n",
    "warnings.filterwarnings(\"ignore\")"
   ]
  },
  {
   "cell_type": "code",
   "execution_count": 73,
   "metadata": {},
   "outputs": [],
   "source": [
    "#Text Preprocessing \n",
    "#remove webpage \n",
    "#can't remove @ or # as he might be mentioning or hashtaging Tesla or a news agency \n",
    "#lowercase\n",
    "#remove punctuations- create a list of common punctuations \n",
    "#need to keep numbers - since we are dealing with stocks \n",
    "#use stopwords \n",
    "#keep emojis\n",
    "#tokenize\n",
    "#can't remove shortwords since car model names \n",
    "#https://www.ranks.nl/stopwords\n",
    "#remove English stopwords \n",
    "stopwords = ['a','about','above','after', 'again', 'against','all', 'am', 'an', 'and', 'any', 'are', 'aren\\'t', 'as',\n",
    "             'at', 'be', 'because', 'been', 'before', 'being', 'below', 'between', 'both', 'but', 'can\\'t', 'cannot',\n",
    "             'could', 'couln\\'t', 'did', 'didn\\'t', 'did', 'didn\\'t', 'do', 'does', 'does\\'t', 'doing', 'don\\'t',\n",
    "             'down', 'during', 'each', 'few', 'for', 'from', 'further', 'had', 'hadn\\'t', 'has', 'hasn\\'t', 'have',\n",
    "             'haven\\'t', 'having', 'he', 'he\\'d', 'he\\'ll', 'he\\'s', 'her', 'here', 'here\\'s', 'hers', 'herself',\n",
    "             'him', 'himself', 'his', 'how', 'how\\'s', 'i', 'i\\'d', 'i\\'ll', 'i\\'m', 'i\\'ve', 'if', 'in', 'into',\n",
    "             'is', 'isn\\'t', 'it', 'it\\'s', 'its', 'itself', 'let\\'s', 'me', 'more' 'most', 'mustn\\'t', 'my', 'myself',\n",
    "             'no', 'nor', 'not', 'of', 'on', 'once', 'only', 'or', 'other', 'ought', 'our', 'ours', 'ourselves',\n",
    "             'out', 'over', 'own', 'same', 'shan\\'t', 'she', 'she\\'d', 'she\\'ll', 'she\\'s', 'should', 'shouldn\\'t',\n",
    "             'so', 'some', 'such', 'than', 'that', 'that\\'s', 'the', 'their', 'theirs', 'them', 'themselves', 'then',\n",
    "             'there', 'there\\'s', 'these', 'they', 'they\\'d', 'they\\'ll', 'they\\'re', 'they\\'ve', 'this', 'those',\n",
    "             'through', 'to', 'too', 'under', 'until', 'up', 'very', 'was', 'wasn\\'t', 'we', 'we\\'d', 'we\\'ll',\n",
    "             'we\\'re', 'we\\'ve', 'were', 'weren\\'t', 'what', 'what\\'s', 'when', 'when\\'s', 'where', 'where\\'s',\n",
    "             'which', 'while', 'who', 'who\\'s', 'whom', 'why', 'why\\'s', ' with', 'won\\'t', 'wouldn\\'t', 'you',\n",
    "             'you\\'d', 'you\\'ll', 'you\\'re', 'you\\'ve', 'your', 'yours', 'yourself', 'yourselves']\n",
    "\n",
    "#remove punctuation from tweets \n",
    "punc = lambda x: re.sub(\"!|,|\\?|\\'|-|\\\"|&|。|\\)|\\(|！|，|\\.*|/|\\[|\\]|\\u2026|\\d|:|~|、|？|☆|’|– |【|】|「|」|《|》|※| “|”|＊|→||[\\b\\.\\b]{3}||@||@ |#|# |\", '',x)\n",
    "\n",
    "\n",
    "\n",
    "def clean_tweet(tweet):\n",
    "    #remove stopwords\n",
    "    #use beautiful soup to remove the &/amps etc in tweets as well as website links \n",
    "    soup_ = BeautifulSoup(tweet, 'lxml')\n",
    "    soup_ = soup_.get_text()\n",
    "    soup_ = re.sub(r'https?://[A-Za-z0-9./]+', '', soup_) \n",
    " \n",
    "    #lowercase the words and remove punctuation\n",
    "    lower_ = ''.join([word.lower() for word in soup_])\n",
    "\n",
    "    #remove puncutations using a custom list\n",
    "    punc_ = ''.join([punc(word) for word in lower_])\n",
    "    #tokenize\n",
    "    token_ = re.split('\\W+',punc_)\n",
    "    #remove stopwords\n",
    "    stop_ = [word for word in token_ if word not in stopwords]\n",
    "    tweet = ' '.join(word for word in stop_)\n",
    "\n",
    "    return tweet\n",
    "\n"
   ]
  },
  {
   "cell_type": "code",
   "execution_count": 74,
   "metadata": {},
   "outputs": [],
   "source": [
    "df['cleanTweet'] = df['tweet'].apply(clean_tweet)"
   ]
  },
  {
   "cell_type": "code",
   "execution_count": 75,
   "metadata": {},
   "outputs": [],
   "source": [
    "#Get rid of blank tweets removed from cleaning \n",
    "df = df[df['cleanTweet'] != '']"
   ]
  },
  {
   "cell_type": "code",
   "execution_count": 76,
   "metadata": {},
   "outputs": [],
   "source": [
    "df = df.reset_index(drop = True)"
   ]
  },
  {
   "cell_type": "code",
   "execution_count": 77,
   "metadata": {},
   "outputs": [],
   "source": [
    "#TFIDF vectorizer \n",
    "tfidf = TfidfVectorizer()\n",
    "\n",
    "#Column Transformer to avoid Data Leakage \n",
    "ct = make_column_transformer(\n",
    "    (tfidf, 'cleanTweet'),\n",
    "    remainder='passthrough')"
   ]
  },
  {
   "cell_type": "code",
   "execution_count": 78,
   "metadata": {},
   "outputs": [],
   "source": [
    "count_vect = CountVectorizer()\n",
    "\n",
    "#CV column transformer\n",
    "\n",
    "ct2 = make_column_transformer(\n",
    "    (count_vect, 'cleanTweet'),\n",
    "    remainder = 'passthrough')"
   ]
  },
  {
   "cell_type": "code",
   "execution_count": 79,
   "metadata": {},
   "outputs": [
    {
     "data": {
      "text/html": [
       "<div>\n",
       "<style scoped>\n",
       "    .dataframe tbody tr th:only-of-type {\n",
       "        vertical-align: middle;\n",
       "    }\n",
       "\n",
       "    .dataframe tbody tr th {\n",
       "        vertical-align: top;\n",
       "    }\n",
       "\n",
       "    .dataframe thead th {\n",
       "        text-align: right;\n",
       "    }\n",
       "</style>\n",
       "<table border=\"1\" class=\"dataframe\">\n",
       "  <thead>\n",
       "    <tr style=\"text-align: right;\">\n",
       "      <th></th>\n",
       "      <th>date</th>\n",
       "      <th>tweet</th>\n",
       "      <th>retweet_count</th>\n",
       "      <th>fav_count</th>\n",
       "      <th>tweetBiz</th>\n",
       "      <th>cleanTweet</th>\n",
       "    </tr>\n",
       "  </thead>\n",
       "  <tbody>\n",
       "    <tr>\n",
       "      <th>0</th>\n",
       "      <td>2020-07-31</td>\n",
       "      <td>The Great Pyramid was the tallest structure ma...</td>\n",
       "      <td>2390</td>\n",
       "      <td>45513</td>\n",
       "      <td>0</td>\n",
       "      <td>great pyramid tallest structure made by humans...</td>\n",
       "    </tr>\n",
       "    <tr>\n",
       "      <th>1</th>\n",
       "      <td>2020-07-31</td>\n",
       "      <td>So true</td>\n",
       "      <td>111</td>\n",
       "      <td>6567</td>\n",
       "      <td>0</td>\n",
       "      <td>true</td>\n",
       "    </tr>\n",
       "    <tr>\n",
       "      <th>2</th>\n",
       "      <td>2020-07-31</td>\n",
       "      <td>Ramses II was 😎</td>\n",
       "      <td>2946</td>\n",
       "      <td>80540</td>\n",
       "      <td>0</td>\n",
       "      <td>ramses ii</td>\n",
       "    </tr>\n",
       "    <tr>\n",
       "      <th>3</th>\n",
       "      <td>2020-07-31</td>\n",
       "      <td>Aliens built the pyramids obv</td>\n",
       "      <td>70731</td>\n",
       "      <td>543749</td>\n",
       "      <td>0</td>\n",
       "      <td>aliens built pyramids obv</td>\n",
       "    </tr>\n",
       "    <tr>\n",
       "      <th>4</th>\n",
       "      <td>2020-07-31</td>\n",
       "      <td>Ancient Egypt had an incredible esthetic that ...</td>\n",
       "      <td>289</td>\n",
       "      <td>7999</td>\n",
       "      <td>0</td>\n",
       "      <td>ancient egypt incredible esthetic stands day</td>\n",
       "    </tr>\n",
       "  </tbody>\n",
       "</table>\n",
       "</div>"
      ],
      "text/plain": [
       "        date                                              tweet  \\\n",
       "0 2020-07-31  The Great Pyramid was the tallest structure ma...   \n",
       "1 2020-07-31                                            So true   \n",
       "2 2020-07-31                                    Ramses II was 😎   \n",
       "3 2020-07-31                      Aliens built the pyramids obv   \n",
       "4 2020-07-31  Ancient Egypt had an incredible esthetic that ...   \n",
       "\n",
       "   retweet_count  fav_count  tweetBiz  \\\n",
       "0           2390      45513         0   \n",
       "1            111       6567         0   \n",
       "2           2946      80540         0   \n",
       "3          70731     543749         0   \n",
       "4            289       7999         0   \n",
       "\n",
       "                                          cleanTweet  \n",
       "0  great pyramid tallest structure made by humans...  \n",
       "1                                               true  \n",
       "2                                         ramses ii   \n",
       "3                          aliens built pyramids obv  \n",
       "4       ancient egypt incredible esthetic stands day  "
      ]
     },
     "execution_count": 79,
     "metadata": {},
     "output_type": "execute_result"
    }
   ],
   "source": [
    "df.head()"
   ]
  },
  {
   "cell_type": "code",
   "execution_count": 80,
   "metadata": {},
   "outputs": [],
   "source": [
    "df['tweetBiz'] = df['tweetBiz'].astype('category').cat.codes"
   ]
  },
  {
   "cell_type": "code",
   "execution_count": 81,
   "metadata": {},
   "outputs": [],
   "source": [
    "df.to_json('data/elonsTweetsV7.json')"
   ]
  },
  {
   "cell_type": "code",
   "execution_count": 82,
   "metadata": {},
   "outputs": [],
   "source": [
    "import seaborn as sns\n",
    "import matplotlib.pyplot as plt\n",
    "from matplotlib import rc\n",
    "from pylab import rcParams\n",
    "%matplotlib inline\n",
    "%config InlineBackend.figure_format = 'retina'\n",
    "sns.set(style = 'whitegrid', palette = 'muted', font_scale = 1.3)\n",
    "rcParams['figure.figsize'] = 12,8"
   ]
  },
  {
   "cell_type": "code",
   "execution_count": 83,
   "metadata": {},
   "outputs": [
    {
     "data": {
      "image/png": "[encoded data removed]",
      "text/plain": [
       "<Figure size 864x576 with 1 Axes>"
      ]
     },
     "metadata": {
      "image/png": {
       "height": 492,
       "width": 743
      }
     },
     "output_type": "display_data"
    }
   ],
   "source": [
    "sns.countplot(df.tweetBiz);\n",
    "plt.xlabel('Tweet Type')\n",
    "plt.xticks(rotation = 45);"
   ]
  },
  {
   "cell_type": "code",
   "execution_count": 85,
   "metadata": {},
   "outputs": [],
   "source": [
    "X = df[['cleanTweet']]\n",
    "y = df[['tweetBiz']]\n",
    "X_train, X_test, y_train, y_test = train_test_split(X,y,test_size = 0.2, random_state = random_state)"
   ]
  },
  {
   "cell_type": "code",
   "execution_count": 86,
   "metadata": {},
   "outputs": [
    {
     "data": {
      "text/plain": [
       "((8234, 1), (2059, 1), (8234, 1), (2059, 1))"
      ]
     },
     "execution_count": 86,
     "metadata": {},
     "output_type": "execute_result"
    }
   ],
   "source": [
    "X_train.shape, X_test.shape, y_train.shape, y_test.shape"
   ]
  },
  {
   "cell_type": "code",
   "execution_count": 87,
   "metadata": {},
   "outputs": [],
   "source": [
    "#Algos\n",
    "from sklearn.svm import SVC\n",
    "from sklearn.naive_bayes import MultinomialNB\n",
    "from sklearn.linear_model import LogisticRegression\n",
    "from sklearn.ensemble import RandomForestClassifier\n",
    "from xgboost import XGBClassifier\n",
    "\n",
    "#Metrics\n",
    "from sklearn.metrics import classification_report"
   ]
  },
  {
   "cell_type": "code",
   "execution_count": null,
   "metadata": {},
   "outputs": [],
   "source": [
    "#####Suppor Vector Machines#######"
   ]
  },
  {
   "cell_type": "code",
   "execution_count": 88,
   "metadata": {},
   "outputs": [],
   "source": [
    "svc = SVC()\n",
    "model1 = make_pipeline(ct, svc)\n",
    "model1.fit(X_train,y_train);"
   ]
  },
  {
   "cell_type": "code",
   "execution_count": 89,
   "metadata": {},
   "outputs": [],
   "source": [
    "targetName = ['Personal', 'Business']"
   ]
  },
  {
   "cell_type": "code",
   "execution_count": 90,
   "metadata": {},
   "outputs": [
    {
     "name": "stdout",
     "output_type": "stream",
     "text": [
      "              precision    recall  f1-score   support\n",
      "\n",
      "    Personal       0.59      1.00      0.75      1224\n",
      "    Business       0.00      0.00      0.00       835\n",
      "\n",
      "    accuracy                           0.59      2059\n",
      "   macro avg       0.30      0.50      0.37      2059\n",
      "weighted avg       0.35      0.59      0.44      2059\n",
      "\n"
     ]
    }
   ],
   "source": [
    "y_pred1 = model1.predict(X_test)\n",
    "print(classification_report(y_test, y_pred1, target_names=targetName))"
   ]
  },
  {
   "cell_type": "code",
   "execution_count": 91,
   "metadata": {},
   "outputs": [],
   "source": [
    "svc = SVC()\n",
    "model1c = make_pipeline(ct2, svc)\n",
    "model1c.fit(X_train,y_train);"
   ]
  },
  {
   "cell_type": "code",
   "execution_count": 92,
   "metadata": {},
   "outputs": [
    {
     "name": "stdout",
     "output_type": "stream",
     "text": [
      "              precision    recall  f1-score   support\n",
      "\n",
      "    Personal       0.59      1.00      0.75      1224\n",
      "    Business       0.00      0.00      0.00       835\n",
      "\n",
      "    accuracy                           0.59      2059\n",
      "   macro avg       0.30      0.50      0.37      2059\n",
      "weighted avg       0.35      0.59      0.44      2059\n",
      "\n"
     ]
    }
   ],
   "source": [
    "y_pred1c = model1c.predict(X_test)\n",
    "print(classification_report(y_test, y_pred1c, target_names=targetName))"
   ]
  },
  {
   "cell_type": "code",
   "execution_count": 93,
   "metadata": {},
   "outputs": [],
   "source": [
    "##### Multinomial Naive Bayes#######"
   ]
  },
  {
   "cell_type": "code",
   "execution_count": 94,
   "metadata": {},
   "outputs": [],
   "source": [
    "mb = MultinomialNB()\n",
    "model2 = make_pipeline(ct, mb)\n",
    "model2.fit(X_train,y_train);"
   ]
  },
  {
   "cell_type": "code",
   "execution_count": 95,
   "metadata": {},
   "outputs": [
    {
     "name": "stdout",
     "output_type": "stream",
     "text": [
      "              precision    recall  f1-score   support\n",
      "\n",
      "    Personal       0.61      0.83      0.71      1224\n",
      "    Business       0.49      0.23      0.31       835\n",
      "\n",
      "    accuracy                           0.59      2059\n",
      "   macro avg       0.55      0.53      0.51      2059\n",
      "weighted avg       0.56      0.59      0.55      2059\n",
      "\n"
     ]
    }
   ],
   "source": [
    "y_pred2 = model2.predict(X_test)\n",
    "print(classification_report(y_test, y_pred2, target_names=targetName))"
   ]
  },
  {
   "cell_type": "code",
   "execution_count": 96,
   "metadata": {},
   "outputs": [],
   "source": [
    "mb = MultinomialNB()\n",
    "model2c = make_pipeline(ct2, mb)\n",
    "model2c.fit(X_train,y_train);"
   ]
  },
  {
   "cell_type": "code",
   "execution_count": 97,
   "metadata": {},
   "outputs": [
    {
     "name": "stdout",
     "output_type": "stream",
     "text": [
      "              precision    recall  f1-score   support\n",
      "\n",
      "    Personal       0.64      0.71      0.67      1224\n",
      "    Business       0.49      0.40      0.44       835\n",
      "\n",
      "    accuracy                           0.59      2059\n",
      "   macro avg       0.56      0.56      0.56      2059\n",
      "weighted avg       0.58      0.59      0.58      2059\n",
      "\n"
     ]
    }
   ],
   "source": [
    "y_pred2c = model2c.predict(X_test)\n",
    "print(classification_report(y_test, y_pred2c, target_names=targetName))"
   ]
  },
  {
   "cell_type": "code",
   "execution_count": 98,
   "metadata": {},
   "outputs": [],
   "source": [
    "###### Logistic Regression #######"
   ]
  },
  {
   "cell_type": "code",
   "execution_count": 99,
   "metadata": {},
   "outputs": [],
   "source": [
    "lr = LogisticRegression()\n",
    "model3 = make_pipeline(ct, lr)\n",
    "model3.fit(X_train,y_train);"
   ]
  },
  {
   "cell_type": "code",
   "execution_count": 100,
   "metadata": {},
   "outputs": [
    {
     "name": "stdout",
     "output_type": "stream",
     "text": [
      "              precision    recall  f1-score   support\n",
      "\n",
      "    Personal       0.62      0.79      0.69      1224\n",
      "    Business       0.48      0.28      0.35       835\n",
      "\n",
      "    accuracy                           0.58      2059\n",
      "   macro avg       0.55      0.53      0.52      2059\n",
      "weighted avg       0.56      0.58      0.55      2059\n",
      "\n"
     ]
    }
   ],
   "source": [
    "y_pred3 = model3.predict(X_test)\n",
    "print(classification_report(y_test, y_pred3, target_names=targetName))"
   ]
  },
  {
   "cell_type": "code",
   "execution_count": 101,
   "metadata": {},
   "outputs": [],
   "source": [
    "lr = LogisticRegression()\n",
    "model3c = make_pipeline(ct2, lr)\n",
    "model3c.fit(X_train,y_train);"
   ]
  },
  {
   "cell_type": "code",
   "execution_count": 102,
   "metadata": {},
   "outputs": [
    {
     "name": "stdout",
     "output_type": "stream",
     "text": [
      "              precision    recall  f1-score   support\n",
      "\n",
      "    Personal       0.61      0.72      0.66      1224\n",
      "    Business       0.45      0.34      0.38       835\n",
      "\n",
      "    accuracy                           0.57      2059\n",
      "   macro avg       0.53      0.53      0.52      2059\n",
      "weighted avg       0.55      0.57      0.55      2059\n",
      "\n"
     ]
    }
   ],
   "source": [
    "y_pred3c = model3c.predict(X_test)\n",
    "print(classification_report(y_test, y_pred3c, target_names=targetName))"
   ]
  },
  {
   "cell_type": "code",
   "execution_count": 103,
   "metadata": {},
   "outputs": [],
   "source": [
    "####### Random Forest Classifier ######"
   ]
  },
  {
   "cell_type": "code",
   "execution_count": 104,
   "metadata": {},
   "outputs": [],
   "source": [
    "#Create the models \n",
    "rf = RandomForestClassifier()\n",
    "model4 = make_pipeline(ct, rf)\n",
    "model4.fit(X_train, y_train);"
   ]
  },
  {
   "cell_type": "code",
   "execution_count": 105,
   "metadata": {},
   "outputs": [
    {
     "name": "stdout",
     "output_type": "stream",
     "text": [
      "              precision    recall  f1-score   support\n",
      "\n",
      "    Personal       0.61      0.77      0.68      1224\n",
      "    Business       0.46      0.28      0.35       835\n",
      "\n",
      "    accuracy                           0.57      2059\n",
      "   macro avg       0.53      0.53      0.51      2059\n",
      "weighted avg       0.55      0.57      0.55      2059\n",
      "\n"
     ]
    }
   ],
   "source": [
    "y_pred4 = model4.predict(X_test)\n",
    "print(classification_report(y_test, y_pred4, target_names=targetName))"
   ]
  },
  {
   "cell_type": "code",
   "execution_count": 106,
   "metadata": {},
   "outputs": [],
   "source": [
    "rf = RandomForestClassifier()\n",
    "model4c = make_pipeline(ct2, rf)\n",
    "model4c.fit(X_train, y_train);"
   ]
  },
  {
   "cell_type": "code",
   "execution_count": 107,
   "metadata": {},
   "outputs": [
    {
     "name": "stdout",
     "output_type": "stream",
     "text": [
      "              precision    recall  f1-score   support\n",
      "\n",
      "    Personal       0.61      0.70      0.65      1224\n",
      "    Business       0.43      0.33      0.37       835\n",
      "\n",
      "    accuracy                           0.55      2059\n",
      "   macro avg       0.52      0.52      0.51      2059\n",
      "weighted avg       0.54      0.55      0.54      2059\n",
      "\n"
     ]
    }
   ],
   "source": [
    "y_pred4c = model4c.predict(X_test)\n",
    "print(classification_report(y_test, y_pred4c, target_names=targetName))"
   ]
  },
  {
   "cell_type": "code",
   "execution_count": 108,
   "metadata": {},
   "outputs": [],
   "source": [
    "##### XGBoost Classifier #########"
   ]
  },
  {
   "cell_type": "code",
   "execution_count": 109,
   "metadata": {},
   "outputs": [],
   "source": [
    "xgb = XGBClassifier()\n",
    "model5 = make_pipeline(ct, xgb)\n",
    "model5.fit(X_train, y_train);"
   ]
  },
  {
   "cell_type": "code",
   "execution_count": 110,
   "metadata": {},
   "outputs": [
    {
     "name": "stdout",
     "output_type": "stream",
     "text": [
      "              precision    recall  f1-score   support\n",
      "\n",
      "    Personal       0.62      0.82      0.71      1224\n",
      "    Business       0.49      0.25      0.33       835\n",
      "\n",
      "    accuracy                           0.59      2059\n",
      "   macro avg       0.56      0.54      0.52      2059\n",
      "weighted avg       0.57      0.59      0.55      2059\n",
      "\n"
     ]
    }
   ],
   "source": [
    "y_pred5 = model5.predict(X_test)\n",
    "print(classification_report(y_test, y_pred5, target_names=targetName))"
   ]
  },
  {
   "cell_type": "code",
   "execution_count": 111,
   "metadata": {},
   "outputs": [],
   "source": [
    "xgb = XGBClassifier()\n",
    "model5c = make_pipeline(ct2, xgb)\n",
    "model5c.fit(X_train, y_train);"
   ]
  },
  {
   "cell_type": "code",
   "execution_count": 112,
   "metadata": {},
   "outputs": [
    {
     "name": "stdout",
     "output_type": "stream",
     "text": [
      "              precision    recall  f1-score   support\n",
      "\n",
      "    Personal       0.62      0.84      0.71      1224\n",
      "    Business       0.49      0.23      0.32       835\n",
      "\n",
      "    accuracy                           0.59      2059\n",
      "   macro avg       0.55      0.54      0.51      2059\n",
      "weighted avg       0.57      0.59      0.55      2059\n",
      "\n"
     ]
    }
   ],
   "source": [
    "y_pred5c = model5c.predict(X_test)\n",
    "print(classification_report(y_test, y_pred5c, target_names=targetName))"
   ]
  },
  {
   "cell_type": "code",
   "execution_count": 113,
   "metadata": {},
   "outputs": [],
   "source": [
    "#Multinomial Bayes Hyperparameter tuning "
   ]
  },
  {
   "cell_type": "code",
   "execution_count": 114,
   "metadata": {},
   "outputs": [
    {
     "data": {
      "text/plain": [
       "dict_keys(['memory', 'steps', 'verbose', 'columntransformer', 'multinomialnb', 'columntransformer__n_jobs', 'columntransformer__remainder', 'columntransformer__sparse_threshold', 'columntransformer__transformer_weights', 'columntransformer__transformers', 'columntransformer__verbose', 'columntransformer__countvectorizer', 'columntransformer__countvectorizer__analyzer', 'columntransformer__countvectorizer__binary', 'columntransformer__countvectorizer__decode_error', 'columntransformer__countvectorizer__dtype', 'columntransformer__countvectorizer__encoding', 'columntransformer__countvectorizer__input', 'columntransformer__countvectorizer__lowercase', 'columntransformer__countvectorizer__max_df', 'columntransformer__countvectorizer__max_features', 'columntransformer__countvectorizer__min_df', 'columntransformer__countvectorizer__ngram_range', 'columntransformer__countvectorizer__preprocessor', 'columntransformer__countvectorizer__stop_words', 'columntransformer__countvectorizer__strip_accents', 'columntransformer__countvectorizer__token_pattern', 'columntransformer__countvectorizer__tokenizer', 'columntransformer__countvectorizer__vocabulary', 'multinomialnb__alpha', 'multinomialnb__class_prior', 'multinomialnb__fit_prior'])"
      ]
     },
     "execution_count": 114,
     "metadata": {},
     "output_type": "execute_result"
    }
   ],
   "source": [
    "model2c.get_params().keys()"
   ]
  },
  {
   "cell_type": "code",
   "execution_count": 115,
   "metadata": {},
   "outputs": [],
   "source": [
    "import numpy as np\n",
    "from sklearn.model_selection import RandomizedSearchCV"
   ]
  },
  {
   "cell_type": "code",
   "execution_count": 116,
   "metadata": {},
   "outputs": [],
   "source": [
    "#Set parameters for randomforest to tune \n",
    "params = {}\n",
    "\n",
    "params['columntransformer__countvectorizer__max_features'] = np.arange(1000,11000, 1000)\n",
    "params['columntransformer__countvectorizer__ngram_range'] = [(1,3), (1,2), (1,1),(2,2), (3,3)]\n",
    "params['multinomialnb__alpha'] = [0.1, 0.5, 1, 2, 5, 10]"
   ]
  },
  {
   "cell_type": "code",
   "execution_count": 117,
   "metadata": {},
   "outputs": [],
   "source": [
    "clf = RandomizedSearchCV(model2c, params, random_state=random_state)"
   ]
  },
  {
   "cell_type": "code",
   "execution_count": 118,
   "metadata": {},
   "outputs": [],
   "source": [
    "clf.fit(X_train,y_train);"
   ]
  },
  {
   "cell_type": "code",
   "execution_count": 119,
   "metadata": {},
   "outputs": [
    {
     "data": {
      "text/plain": [
       "{'multinomialnb__alpha': 0.5,\n",
       " 'columntransformer__countvectorizer__ngram_range': (2, 2),\n",
       " 'columntransformer__countvectorizer__max_features': 1000}"
      ]
     },
     "execution_count": 119,
     "metadata": {},
     "output_type": "execute_result"
    }
   ],
   "source": [
    "clf.best_params_"
   ]
  },
  {
   "cell_type": "code",
   "execution_count": 120,
   "metadata": {},
   "outputs": [
    {
     "data": {
      "text/html": [
       "<div>\n",
       "<style scoped>\n",
       "    .dataframe tbody tr th:only-of-type {\n",
       "        vertical-align: middle;\n",
       "    }\n",
       "\n",
       "    .dataframe tbody tr th {\n",
       "        vertical-align: top;\n",
       "    }\n",
       "\n",
       "    .dataframe thead th {\n",
       "        text-align: right;\n",
       "    }\n",
       "</style>\n",
       "<table border=\"1\" class=\"dataframe\">\n",
       "  <thead>\n",
       "    <tr style=\"text-align: right;\">\n",
       "      <th></th>\n",
       "      <th>mean_fit_time</th>\n",
       "      <th>std_fit_time</th>\n",
       "      <th>mean_score_time</th>\n",
       "      <th>std_score_time</th>\n",
       "      <th>param_multinomialnb__alpha</th>\n",
       "      <th>param_columntransformer__countvectorizer__ngram_range</th>\n",
       "      <th>param_columntransformer__countvectorizer__max_features</th>\n",
       "      <th>params</th>\n",
       "      <th>split0_test_score</th>\n",
       "      <th>split1_test_score</th>\n",
       "      <th>split2_test_score</th>\n",
       "      <th>mean_test_score</th>\n",
       "      <th>std_test_score</th>\n",
       "      <th>rank_test_score</th>\n",
       "    </tr>\n",
       "  </thead>\n",
       "  <tbody>\n",
       "    <tr>\n",
       "      <th>4</th>\n",
       "      <td>0.125668</td>\n",
       "      <td>0.003112</td>\n",
       "      <td>0.034915</td>\n",
       "      <td>0.000164</td>\n",
       "      <td>0.5</td>\n",
       "      <td>(2, 2)</td>\n",
       "      <td>1000</td>\n",
       "      <td>{'multinomialnb__alpha': 0.5, 'columntransform...</td>\n",
       "      <td>0.596140</td>\n",
       "      <td>0.588921</td>\n",
       "      <td>0.586735</td>\n",
       "      <td>0.590600</td>\n",
       "      <td>0.004019</td>\n",
       "      <td>1</td>\n",
       "    </tr>\n",
       "    <tr>\n",
       "      <th>9</th>\n",
       "      <td>0.130346</td>\n",
       "      <td>0.004824</td>\n",
       "      <td>0.035687</td>\n",
       "      <td>0.000889</td>\n",
       "      <td>1</td>\n",
       "      <td>(2, 2)</td>\n",
       "      <td>4000</td>\n",
       "      <td>{'multinomialnb__alpha': 1, 'columntransformer...</td>\n",
       "      <td>0.592134</td>\n",
       "      <td>0.592566</td>\n",
       "      <td>0.578717</td>\n",
       "      <td>0.587807</td>\n",
       "      <td>0.006428</td>\n",
       "      <td>2</td>\n",
       "    </tr>\n",
       "    <tr>\n",
       "      <th>5</th>\n",
       "      <td>0.125098</td>\n",
       "      <td>0.009824</td>\n",
       "      <td>0.033508</td>\n",
       "      <td>0.000372</td>\n",
       "      <td>5</td>\n",
       "      <td>(2, 2)</td>\n",
       "      <td>6000</td>\n",
       "      <td>{'multinomialnb__alpha': 5, 'columntransformer...</td>\n",
       "      <td>0.583030</td>\n",
       "      <td>0.588192</td>\n",
       "      <td>0.583090</td>\n",
       "      <td>0.584770</td>\n",
       "      <td>0.002419</td>\n",
       "      <td>3</td>\n",
       "    </tr>\n",
       "    <tr>\n",
       "      <th>7</th>\n",
       "      <td>0.058885</td>\n",
       "      <td>0.001640</td>\n",
       "      <td>0.023623</td>\n",
       "      <td>0.001609</td>\n",
       "      <td>10</td>\n",
       "      <td>(1, 1)</td>\n",
       "      <td>2000</td>\n",
       "      <td>{'multinomialnb__alpha': 10, 'columntransforme...</td>\n",
       "      <td>0.589949</td>\n",
       "      <td>0.571793</td>\n",
       "      <td>0.587099</td>\n",
       "      <td>0.582949</td>\n",
       "      <td>0.007972</td>\n",
       "      <td>4</td>\n",
       "    </tr>\n",
       "    <tr>\n",
       "      <th>3</th>\n",
       "      <td>0.285736</td>\n",
       "      <td>0.008562</td>\n",
       "      <td>0.060014</td>\n",
       "      <td>0.002840</td>\n",
       "      <td>5</td>\n",
       "      <td>(1, 3)</td>\n",
       "      <td>6000</td>\n",
       "      <td>{'multinomialnb__alpha': 5, 'columntransformer...</td>\n",
       "      <td>0.585579</td>\n",
       "      <td>0.576531</td>\n",
       "      <td>0.586006</td>\n",
       "      <td>0.582706</td>\n",
       "      <td>0.004369</td>\n",
       "      <td>5</td>\n",
       "    </tr>\n",
       "  </tbody>\n",
       "</table>\n",
       "</div>"
      ],
      "text/plain": [
       "   mean_fit_time  std_fit_time  mean_score_time  std_score_time  \\\n",
       "4       0.125668      0.003112         0.034915        0.000164   \n",
       "9       0.130346      0.004824         0.035687        0.000889   \n",
       "5       0.125098      0.009824         0.033508        0.000372   \n",
       "7       0.058885      0.001640         0.023623        0.001609   \n",
       "3       0.285736      0.008562         0.060014        0.002840   \n",
       "\n",
       "  param_multinomialnb__alpha  \\\n",
       "4                        0.5   \n",
       "9                          1   \n",
       "5                          5   \n",
       "7                         10   \n",
       "3                          5   \n",
       "\n",
       "  param_columntransformer__countvectorizer__ngram_range  \\\n",
       "4                                             (2, 2)      \n",
       "9                                             (2, 2)      \n",
       "5                                             (2, 2)      \n",
       "7                                             (1, 1)      \n",
       "3                                             (1, 3)      \n",
       "\n",
       "  param_columntransformer__countvectorizer__max_features  \\\n",
       "4                                               1000       \n",
       "9                                               4000       \n",
       "5                                               6000       \n",
       "7                                               2000       \n",
       "3                                               6000       \n",
       "\n",
       "                                              params  split0_test_score  \\\n",
       "4  {'multinomialnb__alpha': 0.5, 'columntransform...           0.596140   \n",
       "9  {'multinomialnb__alpha': 1, 'columntransformer...           0.592134   \n",
       "5  {'multinomialnb__alpha': 5, 'columntransformer...           0.583030   \n",
       "7  {'multinomialnb__alpha': 10, 'columntransforme...           0.589949   \n",
       "3  {'multinomialnb__alpha': 5, 'columntransformer...           0.585579   \n",
       "\n",
       "   split1_test_score  split2_test_score  mean_test_score  std_test_score  \\\n",
       "4           0.588921           0.586735         0.590600        0.004019   \n",
       "9           0.592566           0.578717         0.587807        0.006428   \n",
       "5           0.588192           0.583090         0.584770        0.002419   \n",
       "7           0.571793           0.587099         0.582949        0.007972   \n",
       "3           0.576531           0.586006         0.582706        0.004369   \n",
       "\n",
       "   rank_test_score  \n",
       "4                1  \n",
       "9                2  \n",
       "5                3  \n",
       "7                4  \n",
       "3                5  "
      ]
     },
     "execution_count": 120,
     "metadata": {},
     "output_type": "execute_result"
    }
   ],
   "source": [
    "#Looking at the best model results \n",
    "results = pd.DataFrame(clf.cv_results_)\n",
    "results.sort_values('rank_test_score').head()"
   ]
  },
  {
   "cell_type": "code",
   "execution_count": 121,
   "metadata": {},
   "outputs": [
    {
     "data": {
      "text/plain": [
       "0.5905999514209376"
      ]
     },
     "execution_count": 121,
     "metadata": {},
     "output_type": "execute_result"
    }
   ],
   "source": [
    "#The best score \n",
    "clf.best_score_"
   ]
  },
  {
   "cell_type": "code",
   "execution_count": 123,
   "metadata": {},
   "outputs": [],
   "source": [
    "df.to_json('data/tweetdataV7.json')"
   ]
  },
  {
   "cell_type": "code",
   "execution_count": null,
   "metadata": {},
   "outputs": [],
   "source": []
  }
 ],
 "metadata": {
  "kernelspec": {
   "display_name": "Python 3",
   "language": "python",
   "name": "python3"
  },
  "language_info": {
   "codemirror_mode": {
    "name": "ipython",
    "version": 3
   },
   "file_extension": ".py",
   "mimetype": "text/x-python",
   "name": "python",
   "nbconvert_exporter": "python",
   "pygments_lexer": "ipython3",
   "version": "3.7.4"
  }
 },
 "nbformat": 4,
 "nbformat_minor": 2
}
