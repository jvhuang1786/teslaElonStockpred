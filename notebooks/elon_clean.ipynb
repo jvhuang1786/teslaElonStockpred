{
 "cells": [
  {
   "cell_type": "markdown",
   "metadata": {},
   "source": [
    "# Data Cleaning"
   ]
  },
  {
   "cell_type": "code",
   "execution_count": null,
   "metadata": {},
   "outputs": [],
   "source": [
    "import pandas as pd\n",
    "import matplotlib.pyplot as plt\n",
    "import seaborn as sns\n",
    "from sklearn.model_selection import train_test_split\n",
    "\n",
    "plt.style.use('seaborn-darkgrid')\n",
    "\n",
    "import warnings\n",
    "warnings.filterwarnings(\"ignore\")"
   ]
  },
  {
   "cell_type": "code",
   "execution_count": null,
   "metadata": {},
   "outputs": [],
   "source": [
    "#df = pd.read_json('data/elonDFV7.json')\n",
    "df = pd.read_json('data/elonMLDFV7.json')"
   ]
  },
  {
   "cell_type": "code",
   "execution_count": 3,
   "metadata": {},
   "outputs": [
    {
     "name": "stdout",
     "output_type": "stream",
     "text": [
      "<class 'pandas.core.frame.DataFrame'>\n",
      "Int64Index: 2712 entries, 0 to 2711\n",
      "Data columns (total 20 columns):\n",
      " #   Column             Non-Null Count  Dtype         \n",
      "---  ------             --------------  -----         \n",
      " 0   date               2712 non-null   datetime64[ns]\n",
      " 1   retweet_count      1782 non-null   float64       \n",
      " 2   fav_count          1782 non-null   float64       \n",
      " 3   tweetLen           1782 non-null   float64       \n",
      " 4   tweet              1782 non-null   object        \n",
      " 5   tweetType          1782 non-null   object        \n",
      " 6   Business positive  1782 non-null   float64       \n",
      " 7   Business neutral   1782 non-null   float64       \n",
      " 8   Business negative  1782 non-null   float64       \n",
      " 9   Personal positive  1782 non-null   float64       \n",
      " 10  Personal neutral   1782 non-null   float64       \n",
      " 11  Personal negative  1782 non-null   float64       \n",
      " 12  compound           1782 non-null   float64       \n",
      " 13  High               2179 non-null   float64       \n",
      " 14  Low                2179 non-null   float64       \n",
      " 15  Open               2179 non-null   float64       \n",
      " 16  Close              2179 non-null   float64       \n",
      " 17  Volume             2179 non-null   float64       \n",
      " 18  Adj Close          2179 non-null   float64       \n",
      " 19  dayOfWeek          2712 non-null   object        \n",
      "dtypes: datetime64[ns](1), float64(16), object(3)\n",
      "memory usage: 444.9+ KB\n"
     ]
    }
   ],
   "source": [
    "#2680 rows \n",
    "#financial data we will do a linear interpolation\n",
    "#need to do train_test_split before linear interpolation \n",
    "#Tweet data we will just replace with 0\n",
    "#DayOfweek switch to categorical and change days into numbers 0 = Monday -> 6 = Sunday\n",
    "#Drop tweetType, tweet since we already did distilbert\n",
    "df.info()"
   ]
  },
  {
   "cell_type": "code",
   "execution_count": 4,
   "metadata": {},
   "outputs": [
    {
     "data": {
      "text/plain": [
       "Index(['date', 'retweet_count', 'fav_count', 'tweetLen', 'tweet', 'tweetType',\n",
       "       'Business positive', 'Business neutral', 'Business negative',\n",
       "       'Personal positive', 'Personal neutral', 'Personal negative',\n",
       "       'compound', 'High', 'Low', 'Open', 'Close', 'Volume', 'Adj Close',\n",
       "       'dayOfWeek'],\n",
       "      dtype='object')"
      ]
     },
     "execution_count": 4,
     "metadata": {},
     "output_type": "execute_result"
    }
   ],
   "source": [
    "df.columns"
   ]
  },
  {
   "cell_type": "code",
   "execution_count": 5,
   "metadata": {},
   "outputs": [],
   "source": [
    "#Change dayOfWeek to numerical and categorical\n",
    "df['dayOfWeek'] = pd.Categorical(df['dayOfWeek'])\n",
    "df['dayOfWeek'] = df['dayOfWeek'].cat.codes\n",
    "\n",
    "# df1['dayOfWeek'] = pd.Categorical(df1['dayOfWeek'])\n",
    "# df1['dayOfWeek'] = df1['dayOfWeek'].cat.codes"
   ]
  },
  {
   "cell_type": "code",
   "execution_count": 6,
   "metadata": {},
   "outputs": [],
   "source": [
    "#Drop tweetType, tweet since we already did distilbert\n",
    "df = df.drop(columns = ['tweetType', 'tweet'])\n",
    "# df1 = df1.drop(columns = ['tweetType', 'tweet'])"
   ]
  },
  {
   "cell_type": "code",
   "execution_count": 8,
   "metadata": {},
   "outputs": [
    {
     "data": {
      "text/plain": [
       "retweet_count        0.255058\n",
       "fav_count            0.417315\n",
       "tweetLen             0.214357\n",
       "Business positive    0.155887\n",
       "Business neutral     0.125191\n",
       "Business negative    0.072118\n",
       "Personal positive    0.335091\n",
       "Personal neutral     0.334035\n",
       "Personal negative    0.281560\n",
       "compound             0.148557\n",
       "High                 0.996232\n",
       "Low                  0.996889\n",
       "Open                 0.995694\n",
       "Close                0.997495\n",
       "Volume               0.493952\n",
       "Adj Close            1.000000\n",
       "dayOfWeek            0.003611\n",
       "Name: Adj Close, dtype: float64"
      ]
     },
     "execution_count": 8,
     "metadata": {},
     "output_type": "execute_result"
    }
   ],
   "source": [
    "#Going to use Adjusted Close as our Y variable \n",
    "df.corr()['Adj Close']\n",
    "#df1.corr()['Adj Close']"
   ]
  },
  {
   "cell_type": "code",
   "execution_count": null,
   "metadata": {},
   "outputs": [],
   "source": [
    "#cor(i,j) = cov(i,j)/[stdev(i)*stdev(j)]\n",
    "#If the values of the ith or jth variable do not vary, \n",
    "#then the respective standard deviation will be zero and \n",
    "#so will the denominator of the fraction. \n",
    "#Thus, the correlation will be NaN."
   ]
  },
  {
   "cell_type": "code",
   "execution_count": 9,
   "metadata": {},
   "outputs": [],
   "source": [
    "#Set the date as the index\n",
    "df = df.set_index('date')\n",
    "#df1 = df1.set_index('date')"
   ]
  },
  {
   "cell_type": "code",
   "execution_count": 11,
   "metadata": {},
   "outputs": [],
   "source": [
    "#cleaning the dataframe for train test split for random forest and xgboost\n",
    "\n",
    "#Change Financial NaNs using Linear\n",
    "stockDataclean = ['Close', 'Open', 'High', 'Low', 'Volume', 'Adj Close']\n",
    "\n",
    "#Set Tweet data to 0s \n",
    "zeroColclean = ['fav_count', 'retweet_count', 'Business positive',\n",
    "           'Business neutral', 'Business negative', 'Personal positive',\n",
    "           'Personal neutral', 'Personal negative',\n",
    "           'compound', 'tweetLen']\n",
    "\n",
    "\n",
    "df[stockDataclean] = df[stockDataclean].interpolate(method = 'linear', \n",
    "                                                    limit_direction=\"both\")\n",
    "\n",
    "df[zeroColclean] = df[zeroColclean].fillna(0)\n",
    "\n"
   ]
  },
  {
   "cell_type": "code",
   "execution_count": 12,
   "metadata": {},
   "outputs": [
    {
     "name": "stdout",
     "output_type": "stream",
     "text": [
      "<class 'pandas.core.frame.DataFrame'>\n",
      "DatetimeIndex: 2712 entries, 2011-12-01 to 2020-07-31\n",
      "Data columns (total 17 columns):\n",
      " #   Column             Non-Null Count  Dtype  \n",
      "---  ------             --------------  -----  \n",
      " 0   retweet_count      2712 non-null   float64\n",
      " 1   fav_count          2712 non-null   float64\n",
      " 2   tweetLen           2712 non-null   float64\n",
      " 3   Business positive  2712 non-null   float64\n",
      " 4   Business neutral   2712 non-null   float64\n",
      " 5   Business negative  2712 non-null   float64\n",
      " 6   Personal positive  2712 non-null   float64\n",
      " 7   Personal neutral   2712 non-null   float64\n",
      " 8   Personal negative  2712 non-null   float64\n",
      " 9   compound           2712 non-null   float64\n",
      " 10  High               2712 non-null   float64\n",
      " 11  Low                2712 non-null   float64\n",
      " 12  Open               2712 non-null   float64\n",
      " 13  Close              2712 non-null   float64\n",
      " 14  Volume             2712 non-null   float64\n",
      " 15  Adj Close          2712 non-null   float64\n",
      " 16  dayOfWeek          2712 non-null   int8   \n",
      "dtypes: float64(16), int8(1)\n",
      "memory usage: 362.8 KB\n"
     ]
    }
   ],
   "source": [
    "df.info()"
   ]
  },
  {
   "cell_type": "code",
   "execution_count": 14,
   "metadata": {},
   "outputs": [],
   "source": [
    "df.to_json('data/elonDFCleanV8.json')"
   ]
  },
  {
   "cell_type": "code",
   "execution_count": null,
   "metadata": {},
   "outputs": [],
   "source": [
    "#Do a train Test Split to avoid data leakage for our time series model \n",
    "X = df.loc[:, df.columns != 'Adj Close']\n",
    "y = pd.DataFrame(df.loc[:, 'Adj Close'])"
   ]
  },
  {
   "cell_type": "code",
   "execution_count": null,
   "metadata": {},
   "outputs": [],
   "source": []
  },
  {
   "cell_type": "code",
   "execution_count": null,
   "metadata": {},
   "outputs": [],
   "source": [
    "X_train, X_test, y_train, y_test = train_test_split(X,y,test_size = 0.1, shuffle = False)"
   ]
  },
  {
   "cell_type": "code",
   "execution_count": null,
   "metadata": {},
   "outputs": [],
   "source": [
    "X_train.shape, X_test.shape, y_train.shape, y_test.shape"
   ]
  },
  {
   "cell_type": "code",
   "execution_count": null,
   "metadata": {},
   "outputs": [],
   "source": [
    "#Change Financial NaNs using Linear\n",
    "stockDatax = ['Close', 'Open', 'High', 'Low', 'Volume']\n",
    "stockDatay = 'Adj Close' \n",
    "\n",
    "#Features\n",
    "X_train[stockDatax] = X_train[stockDatax].interpolate(method = 'linear', \n",
    "                                                    limit_direction=\"both\")\n",
    "X_test[stockDatax] = X_test[stockDatax].interpolate(method = 'linear', \n",
    "                                                    limit_direction=\"both\")\n",
    "#Target\n",
    "y_train[stockDatay] = y_train[stockDatay].interpolate(method = 'linear', \n",
    "                                                    limit_direction=\"both\")\n",
    "y_test[stockDatay] = y_test[stockDatay].interpolate(method = 'linear', \n",
    "                                                    limit_direction=\"both\")"
   ]
  },
  {
   "cell_type": "code",
   "execution_count": null,
   "metadata": {},
   "outputs": [],
   "source": [
    "#Set Tweet data to 0s \n",
    "zeroCol = ['fav_count', 'retweet_count', 'Business positive',\n",
    "           'Business neutral', 'Business negative', 'Personal positive',\n",
    "           'Personal neutral', 'Personal negative',\n",
    "           'compound', 'tweetLen']\n",
    "\n",
    "#Features\n",
    "X_train[zeroCol] = X_train[zeroCol].fillna(0)\n",
    "X_test[zeroCol] = X_test[zeroCol].fillna(0)"
   ]
  },
  {
   "cell_type": "code",
   "execution_count": null,
   "metadata": {},
   "outputs": [],
   "source": [
    "#Check if no nulls\n",
    "X_train.info(), y_train.info() "
   ]
  },
  {
   "cell_type": "code",
   "execution_count": null,
   "metadata": {},
   "outputs": [],
   "source": [
    "#Check if no nulls\n",
    "X_test.info(), y_test.info()"
   ]
  },
  {
   "cell_type": "code",
   "execution_count": null,
   "metadata": {},
   "outputs": [],
   "source": [
    "#Visualize just to see if interpolation didn't mess up \n",
    "plt.style.use('fivethirtyeight')"
   ]
  },
  {
   "cell_type": "code",
   "execution_count": null,
   "metadata": {},
   "outputs": [],
   "source": [
    "plt.plot(y_test['Adj Close'])\n",
    "plt.xticks(rotation=45);"
   ]
  },
  {
   "cell_type": "code",
   "execution_count": null,
   "metadata": {},
   "outputs": [],
   "source": [
    "plt.plot(y_train['Adj Close'])\n",
    "plt.xticks(rotation=45);"
   ]
  },
  {
   "cell_type": "code",
   "execution_count": null,
   "metadata": {},
   "outputs": [],
   "source": [
    "plt.plot(X_test['Volume'])\n",
    "plt.xticks(rotation=45);"
   ]
  },
  {
   "cell_type": "code",
   "execution_count": null,
   "metadata": {},
   "outputs": [],
   "source": [
    "plt.plot(X_train['Volume'])\n",
    "plt.xticks(rotation=45);"
   ]
  },
  {
   "cell_type": "code",
   "execution_count": null,
   "metadata": {},
   "outputs": [],
   "source": [
    "#Save Data For Model \n",
    "X_train.to_json('data/X_train.json')\n",
    "X_test.to_json('data/X_test.json')\n",
    "y_test.to_json('data/y_test.json')\n",
    "y_train.to_json('data/y_train.json')"
   ]
  },
  {
   "cell_type": "code",
   "execution_count": null,
   "metadata": {},
   "outputs": [],
   "source": [
    "X_train.columns"
   ]
  },
  {
   "cell_type": "code",
   "execution_count": null,
   "metadata": {},
   "outputs": [],
   "source": []
  }
 ],
 "metadata": {
  "kernelspec": {
   "display_name": "Python 3",
   "language": "python",
   "name": "python3"
  },
  "language_info": {
   "codemirror_mode": {
    "name": "ipython",
    "version": 3
   },
   "file_extension": ".py",
   "mimetype": "text/x-python",
   "name": "python",
   "nbconvert_exporter": "python",
   "pygments_lexer": "ipython3",
   "version": "3.7.4"
  }
 },
 "nbformat": 4,
 "nbformat_minor": 2
}
