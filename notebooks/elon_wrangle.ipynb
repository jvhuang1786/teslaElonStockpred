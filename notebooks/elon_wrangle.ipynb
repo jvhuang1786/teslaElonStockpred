{
 "cells": [
  {
   "cell_type": "markdown",
   "metadata": {},
   "source": [
    "# Data Collection of Tweets"
   ]
  },
  {
   "cell_type": "code",
   "execution_count": 1,
   "metadata": {},
   "outputs": [],
   "source": [
    "import GetOldTweets3 as got\n",
    "import pandas as pd"
   ]
  },
  {
   "cell_type": "code",
   "execution_count": 7,
   "metadata": {},
   "outputs": [],
   "source": [
    "#Twitter Handle\n",
    "username = 'elonmusk'\n",
    "#GetOldTweets can only collect a max of 10000 tweets at a time\n",
    "count = 10000\n",
    "\n",
    "#Creation of query object\n",
    "tweetCriteria = got.manager.TweetCriteria().setUsername(username).setMaxTweets(count).setEmoji(\"unicode\").setSince(\"2020-6-01\").setUntil(\"2020-8-3\")\n",
    "#Creation of list that contains  all tweets\n",
    "tweets = got.manager.TweetManager.getTweets(tweetCriteria)\n",
    "\n",
    "#creating list of chosen tweet data\n",
    "user_tweets = [[tweet.date, tweet.text, tweet.retweets, tweet.favorites] for tweet in tweets]\n",
    "#Save to DataFrame\n",
    "tweets = pd.DataFrame(user_tweets)\n",
    "#Save to Json\n",
    "tweets.to_json('data/elonmusk10.json')"
   ]
  },
  {
   "cell_type": "code",
   "execution_count": 8,
   "metadata": {},
   "outputs": [
    {
     "data": {
      "text/html": [
       "<div>\n",
       "<style scoped>\n",
       "    .dataframe tbody tr th:only-of-type {\n",
       "        vertical-align: middle;\n",
       "    }\n",
       "\n",
       "    .dataframe tbody tr th {\n",
       "        vertical-align: top;\n",
       "    }\n",
       "\n",
       "    .dataframe thead th {\n",
       "        text-align: right;\n",
       "    }\n",
       "</style>\n",
       "<table border=\"1\" class=\"dataframe\">\n",
       "  <thead>\n",
       "    <tr style=\"text-align: right;\">\n",
       "      <th></th>\n",
       "      <th>0</th>\n",
       "      <th>1</th>\n",
       "      <th>2</th>\n",
       "      <th>3</th>\n",
       "    </tr>\n",
       "  </thead>\n",
       "  <tbody>\n",
       "    <tr>\n",
       "      <th>0</th>\n",
       "      <td>2020-08-02 23:20:53+00:00</td>\n",
       "      <td>Nosecone closing is recommended, but not required, for safe entry</td>\n",
       "      <td>67</td>\n",
       "      <td>2339</td>\n",
       "    </tr>\n",
       "    <tr>\n",
       "      <th>1</th>\n",
       "      <td>2020-08-02 22:45:07+00:00</td>\n",
       "      <td>When space travel becomes as common as air travel, the future of civilization will be assured</td>\n",
       "      <td>23761</td>\n",
       "      <td>212331</td>\n",
       "    </tr>\n",
       "    <tr>\n",
       "      <th>2</th>\n",
       "      <td>2020-08-02 21:35:05+00:00</td>\n",
       "      <td>Space is the new air</td>\n",
       "      <td>1026</td>\n",
       "      <td>14007</td>\n",
       "    </tr>\n",
       "    <tr>\n",
       "      <th>3</th>\n",
       "      <td>2020-08-02 20:27:25+00:00</td>\n",
       "      <td>Congratulations @SpaceX &amp;amp; @NASA on completing first crewed Dragon flight!! 🇺🇸 returned.</td>\n",
       "      <td>18489</td>\n",
       "      <td>204600</td>\n",
       "    </tr>\n",
       "    <tr>\n",
       "      <th>4</th>\n",
       "      <td>2020-08-02 18:51:04+00:00</td>\n",
       "      <td>Dragon is stable in the water</td>\n",
       "      <td>16478</td>\n",
       "      <td>261192</td>\n",
       "    </tr>\n",
       "    <tr>\n",
       "      <th>5</th>\n",
       "      <td>2020-08-02 18:37:24+00:00</td>\n",
       "      <td>Acquisition of signal expected in 5 mins</td>\n",
       "      <td>629</td>\n",
       "      <td>16759</td>\n",
       "    </tr>\n",
       "    <tr>\n",
       "      <th>6</th>\n",
       "      <td>2020-08-02 18:31:53+00:00</td>\n",
       "      <td>4 mins to Dragon loss of signal due to atmospheric entry plasma</td>\n",
       "      <td>2674</td>\n",
       "      <td>53288</td>\n",
       "    </tr>\n",
       "    <tr>\n",
       "      <th>7</th>\n",
       "      <td>2020-08-02 18:11:01+00:00</td>\n",
       "      <td>Dragon will travel from south of New Zealand to Florida in ~37 minutes</td>\n",
       "      <td>9499</td>\n",
       "      <td>136140</td>\n",
       "    </tr>\n",
       "    <tr>\n",
       "      <th>8</th>\n",
       "      <td>2020-08-02 17:19:04+00:00</td>\n",
       "      <td>Coming in hot</td>\n",
       "      <td>2663</td>\n",
       "      <td>31283</td>\n",
       "    </tr>\n",
       "    <tr>\n",
       "      <th>9</th>\n",
       "      <td>2020-08-02 16:55:30+00:00</td>\n",
       "      <td>Astronauts land in 2 hours @NASA @SpaceX</td>\n",
       "      <td>8952</td>\n",
       "      <td>118337</td>\n",
       "    </tr>\n",
       "  </tbody>\n",
       "</table>\n",
       "</div>"
      ],
      "text/plain": [
       "                          0  \\\n",
       "0 2020-08-02 23:20:53+00:00   \n",
       "1 2020-08-02 22:45:07+00:00   \n",
       "2 2020-08-02 21:35:05+00:00   \n",
       "3 2020-08-02 20:27:25+00:00   \n",
       "4 2020-08-02 18:51:04+00:00   \n",
       "5 2020-08-02 18:37:24+00:00   \n",
       "6 2020-08-02 18:31:53+00:00   \n",
       "7 2020-08-02 18:11:01+00:00   \n",
       "8 2020-08-02 17:19:04+00:00   \n",
       "9 2020-08-02 16:55:30+00:00   \n",
       "\n",
       "                                                                                               1  \\\n",
       "0                              Nosecone closing is recommended, but not required, for safe entry   \n",
       "1  When space travel becomes as common as air travel, the future of civilization will be assured   \n",
       "2                                                                           Space is the new air   \n",
       "3    Congratulations @SpaceX &amp; @NASA on completing first crewed Dragon flight!! 🇺🇸 returned.   \n",
       "4                                                                  Dragon is stable in the water   \n",
       "5                                                       Acquisition of signal expected in 5 mins   \n",
       "6                                4 mins to Dragon loss of signal due to atmospheric entry plasma   \n",
       "7                         Dragon will travel from south of New Zealand to Florida in ~37 minutes   \n",
       "8                                                                                  Coming in hot   \n",
       "9                                                       Astronauts land in 2 hours @NASA @SpaceX   \n",
       "\n",
       "       2       3  \n",
       "0     67    2339  \n",
       "1  23761  212331  \n",
       "2   1026   14007  \n",
       "3  18489  204600  \n",
       "4  16478  261192  \n",
       "5    629   16759  \n",
       "6   2674   53288  \n",
       "7   9499  136140  \n",
       "8   2663   31283  \n",
       "9   8952  118337  "
      ]
     },
     "execution_count": 8,
     "metadata": {},
     "output_type": "execute_result"
    }
   ],
   "source": [
    "#Lets Look at the Tweets \n",
    "tweets.head(10)"
   ]
  },
  {
   "cell_type": "markdown",
   "metadata": {},
   "source": [
    "# Tweet Data Wrangling"
   ]
  },
  {
   "cell_type": "code",
   "execution_count": 9,
   "metadata": {},
   "outputs": [],
   "source": [
    "import pandas as pd\n",
    "import numpy as np\n",
    "pd.set_option('display.max_colwidth',None)"
   ]
  },
  {
   "cell_type": "code",
   "execution_count": 10,
   "metadata": {},
   "outputs": [],
   "source": [
    "df = pd.read_json('data/elonmusk10.json')"
   ]
  },
  {
   "cell_type": "code",
   "execution_count": 11,
   "metadata": {},
   "outputs": [],
   "source": [
    "#rename columns \n",
    "df.rename(columns={0: 'date', 1: \\\n",
    "                   'tweet', 2: 'retweet_count', 3: 'fav_count'}, inplace=True)"
   ]
  },
  {
   "cell_type": "code",
   "execution_count": 12,
   "metadata": {},
   "outputs": [],
   "source": [
    "#Change timestamp to datetime format \n",
    "df['date'] = pd.to_datetime(df['date'], unit='ms')\n",
    "df['date'] = pd.to_datetime(df['date']).dt.date"
   ]
  },
  {
   "cell_type": "code",
   "execution_count": 13,
   "metadata": {},
   "outputs": [
    {
     "data": {
      "text/html": [
       "<div>\n",
       "<style scoped>\n",
       "    .dataframe tbody tr th:only-of-type {\n",
       "        vertical-align: middle;\n",
       "    }\n",
       "\n",
       "    .dataframe tbody tr th {\n",
       "        vertical-align: top;\n",
       "    }\n",
       "\n",
       "    .dataframe thead th {\n",
       "        text-align: right;\n",
       "    }\n",
       "</style>\n",
       "<table border=\"1\" class=\"dataframe\">\n",
       "  <thead>\n",
       "    <tr style=\"text-align: right;\">\n",
       "      <th></th>\n",
       "      <th>date</th>\n",
       "      <th>tweet</th>\n",
       "      <th>retweet_count</th>\n",
       "      <th>fav_count</th>\n",
       "    </tr>\n",
       "  </thead>\n",
       "  <tbody>\n",
       "    <tr>\n",
       "      <th>706</th>\n",
       "      <td>2020-06-02</td>\n",
       "      <td>Off Twitter for a while</td>\n",
       "      <td>31937</td>\n",
       "      <td>564842</td>\n",
       "    </tr>\n",
       "    <tr>\n",
       "      <th>707</th>\n",
       "      <td>2020-06-01</td>\n",
       "      <td>Starship is the key to making life multiplanetary &amp; protecting the light of consciousness</td>\n",
       "      <td>2282</td>\n",
       "      <td>35878</td>\n",
       "    </tr>\n",
       "    <tr>\n",
       "      <th>708</th>\n",
       "      <td>2020-06-01</td>\n",
       "      <td>Well said</td>\n",
       "      <td>474</td>\n",
       "      <td>11581</td>\n",
       "    </tr>\n",
       "    <tr>\n",
       "      <th>709</th>\n",
       "      <td>2020-06-01</td>\n",
       "      <td>Definitely not right that the other officers were charged with nothing. What message does this send in general to officers who stand by while another does wrong? #JusticeForGeorge</td>\n",
       "      <td>1362</td>\n",
       "      <td>9835</td>\n",
       "    </tr>\n",
       "    <tr>\n",
       "      <th>710</th>\n",
       "      <td>2020-06-01</td>\n",
       "      <td>Where’s the banana!?</td>\n",
       "      <td>1570</td>\n",
       "      <td>68253</td>\n",
       "    </tr>\n",
       "  </tbody>\n",
       "</table>\n",
       "</div>"
      ],
      "text/plain": [
       "           date  \\\n",
       "706  2020-06-02   \n",
       "707  2020-06-01   \n",
       "708  2020-06-01   \n",
       "709  2020-06-01   \n",
       "710  2020-06-01   \n",
       "\n",
       "                                                                                                                                                                                   tweet  \\\n",
       "706                                                                                                                                                              Off Twitter for a while   \n",
       "707                                                                                            Starship is the key to making life multiplanetary & protecting the light of consciousness   \n",
       "708                                                                                                                                                                            Well said   \n",
       "709  Definitely not right that the other officers were charged with nothing. What message does this send in general to officers who stand by while another does wrong? #JusticeForGeorge   \n",
       "710                                                                                                                                                                 Where’s the banana!?   \n",
       "\n",
       "     retweet_count  fav_count  \n",
       "706          31937     564842  \n",
       "707           2282      35878  \n",
       "708            474      11581  \n",
       "709           1362       9835  \n",
       "710           1570      68253  "
      ]
     },
     "execution_count": 13,
     "metadata": {},
     "output_type": "execute_result"
    }
   ],
   "source": [
    "df.tail()"
   ]
  },
  {
   "cell_type": "code",
   "execution_count": 14,
   "metadata": {},
   "outputs": [],
   "source": [
    "#Load in second data to collect missing tweets \n",
    "df1 = pd.read_json('data/elonmusk4.json')"
   ]
  },
  {
   "cell_type": "code",
   "execution_count": 15,
   "metadata": {},
   "outputs": [],
   "source": [
    "#rename columns \n",
    "df1.rename(columns={0: 'date', 1: \\\n",
    "                   'tweet', 2: 'retweet_count', 3: 'fav_count'}, inplace=True)\n",
    "\n",
    "#Change timestamp to datetime format \n",
    "df1['date'] = pd.to_datetime(df1['date'], unit='ms')\n",
    "df1['date'] = pd.to_datetime(df1['date']).dt.date"
   ]
  },
  {
   "cell_type": "code",
   "execution_count": 20,
   "metadata": {},
   "outputs": [
    {
     "data": {
      "text/plain": [
       "9819"
      ]
     },
     "execution_count": 20,
     "metadata": {},
     "output_type": "execute_result"
    }
   ],
   "source": [
    "#Limit to OldTweets as it only Collects up to 10000 so we shall append the data \n",
    "df1.head(15)\n",
    "len(df1)"
   ]
  },
  {
   "cell_type": "code",
   "execution_count": 27,
   "metadata": {},
   "outputs": [
    {
     "data": {
      "text/html": [
       "<div>\n",
       "<style scoped>\n",
       "    .dataframe tbody tr th:only-of-type {\n",
       "        vertical-align: middle;\n",
       "    }\n",
       "\n",
       "    .dataframe tbody tr th {\n",
       "        vertical-align: top;\n",
       "    }\n",
       "\n",
       "    .dataframe thead th {\n",
       "        text-align: right;\n",
       "    }\n",
       "</style>\n",
       "<table border=\"1\" class=\"dataframe\">\n",
       "  <thead>\n",
       "    <tr style=\"text-align: right;\">\n",
       "      <th></th>\n",
       "      <th>date</th>\n",
       "      <th>tweet</th>\n",
       "      <th>retweet_count</th>\n",
       "      <th>fav_count</th>\n",
       "    </tr>\n",
       "  </thead>\n",
       "  <tbody>\n",
       "    <tr>\n",
       "      <th>11</th>\n",
       "      <td>2020-05-31</td>\n",
       "      <td>Nine years later</td>\n",
       "      <td>38050</td>\n",
       "      <td>410228</td>\n",
       "    </tr>\n",
       "    <tr>\n",
       "      <th>12</th>\n",
       "      <td>2020-05-31</td>\n",
       "      <td>Must be due to relativistic aging 😉</td>\n",
       "      <td>108</td>\n",
       "      <td>3492</td>\n",
       "    </tr>\n",
       "    <tr>\n",
       "      <th>13</th>\n",
       "      <td>2020-05-31</td>\n",
       "      <td>Brought home by same person who placed it there almost a decade ago</td>\n",
       "      <td>805</td>\n",
       "      <td>17465</td>\n",
       "    </tr>\n",
       "    <tr>\n",
       "      <th>14</th>\n",
       "      <td>2020-05-31</td>\n",
       "      <td>Спасибо, сэр, ха-ха. Мы рассчитываем на взаимовыгодное и процветающее долгосрочное сотрудничество. - Elon</td>\n",
       "      <td>1637</td>\n",
       "      <td>11717</td>\n",
       "    </tr>\n",
       "    <tr>\n",
       "      <th>15</th>\n",
       "      <td>2020-05-31</td>\n",
       "      <td>Congratulations Bob &amp; Doug on docking &amp; hatch opening on @Space_Station!</td>\n",
       "      <td>6033</td>\n",
       "      <td>76705</td>\n",
       "    </tr>\n",
       "    <tr>\n",
       "      <th>...</th>\n",
       "      <td>...</td>\n",
       "      <td>...</td>\n",
       "      <td>...</td>\n",
       "      <td>...</td>\n",
       "    </tr>\n",
       "    <tr>\n",
       "      <th>9814</th>\n",
       "      <td>2011-12-03</td>\n",
       "      <td>That was a total non sequitur btw</td>\n",
       "      <td>4</td>\n",
       "      <td>7</td>\n",
       "    </tr>\n",
       "    <tr>\n",
       "      <th>9815</th>\n",
       "      <td>2011-12-03</td>\n",
       "      <td>Great Voltaire quote, arguably better than Twain. Hearing news of his own death, Voltaire replied the reports were true, only premature.</td>\n",
       "      <td>25</td>\n",
       "      <td>29</td>\n",
       "    </tr>\n",
       "    <tr>\n",
       "      <th>9816</th>\n",
       "      <td>2011-12-01</td>\n",
       "      <td>I made the volume on the Model S http://ow.ly/i/mtD7 go to 11. Now I just need to work in a miniature Stonehenge...</td>\n",
       "      <td>8</td>\n",
       "      <td>23</td>\n",
       "    </tr>\n",
       "    <tr>\n",
       "      <th>9817</th>\n",
       "      <td>2011-12-01</td>\n",
       "      <td>Went to Iceland on Sat to ride bumper cars on ice! No, not the country, Vlad's rink in Van Nuys. Awesome family fun :)</td>\n",
       "      <td>18</td>\n",
       "      <td>165</td>\n",
       "    </tr>\n",
       "    <tr>\n",
       "      <th>9818</th>\n",
       "      <td>2010-06-04</td>\n",
       "      <td>Please ignore prior tweets, as that was someone pretending to be me :) This is actually me.</td>\n",
       "      <td>130</td>\n",
       "      <td>523</td>\n",
       "    </tr>\n",
       "  </tbody>\n",
       "</table>\n",
       "<p>9808 rows × 4 columns</p>\n",
       "</div>"
      ],
      "text/plain": [
       "            date  \\\n",
       "11    2020-05-31   \n",
       "12    2020-05-31   \n",
       "13    2020-05-31   \n",
       "14    2020-05-31   \n",
       "15    2020-05-31   \n",
       "...          ...   \n",
       "9814  2011-12-03   \n",
       "9815  2011-12-03   \n",
       "9816  2011-12-01   \n",
       "9817  2011-12-01   \n",
       "9818  2010-06-04   \n",
       "\n",
       "                                                                                                                                         tweet  \\\n",
       "11                                                                                                                            Nine years later   \n",
       "12                                                                                                         Must be due to relativistic aging 😉   \n",
       "13                                                                         Brought home by same person who placed it there almost a decade ago   \n",
       "14                                   Спасибо, сэр, ха-ха. Мы рассчитываем на взаимовыгодное и процветающее долгосрочное сотрудничество. - Elon   \n",
       "15                                                                    Congratulations Bob & Doug on docking & hatch opening on @Space_Station!   \n",
       "...                                                                                                                                        ...   \n",
       "9814                                                                                                         That was a total non sequitur btw   \n",
       "9815  Great Voltaire quote, arguably better than Twain. Hearing news of his own death, Voltaire replied the reports were true, only premature.   \n",
       "9816                       I made the volume on the Model S http://ow.ly/i/mtD7 go to 11. Now I just need to work in a miniature Stonehenge...   \n",
       "9817                    Went to Iceland on Sat to ride bumper cars on ice! No, not the country, Vlad's rink in Van Nuys. Awesome family fun :)   \n",
       "9818                                               Please ignore prior tweets, as that was someone pretending to be me :) This is actually me.   \n",
       "\n",
       "      retweet_count  fav_count  \n",
       "11            38050     410228  \n",
       "12              108       3492  \n",
       "13              805      17465  \n",
       "14             1637      11717  \n",
       "15             6033      76705  \n",
       "...             ...        ...  \n",
       "9814              4          7  \n",
       "9815             25         29  \n",
       "9816              8         23  \n",
       "9817             18        165  \n",
       "9818            130        523  \n",
       "\n",
       "[9808 rows x 4 columns]"
      ]
     },
     "execution_count": 27,
     "metadata": {},
     "output_type": "execute_result"
    }
   ],
   "source": [
    "df1.loc[11:,:]"
   ]
  },
  {
   "cell_type": "code",
   "execution_count": 29,
   "metadata": {},
   "outputs": [
    {
     "data": {
      "text/html": [
       "<div>\n",
       "<style scoped>\n",
       "    .dataframe tbody tr th:only-of-type {\n",
       "        vertical-align: middle;\n",
       "    }\n",
       "\n",
       "    .dataframe tbody tr th {\n",
       "        vertical-align: top;\n",
       "    }\n",
       "\n",
       "    .dataframe thead th {\n",
       "        text-align: right;\n",
       "    }\n",
       "</style>\n",
       "<table border=\"1\" class=\"dataframe\">\n",
       "  <thead>\n",
       "    <tr style=\"text-align: right;\">\n",
       "      <th></th>\n",
       "      <th>date</th>\n",
       "      <th>tweet</th>\n",
       "      <th>retweet_count</th>\n",
       "      <th>fav_count</th>\n",
       "    </tr>\n",
       "  </thead>\n",
       "  <tbody>\n",
       "    <tr>\n",
       "      <th>706</th>\n",
       "      <td>2020-06-02</td>\n",
       "      <td>Off Twitter for a while</td>\n",
       "      <td>31937</td>\n",
       "      <td>564842</td>\n",
       "    </tr>\n",
       "    <tr>\n",
       "      <th>707</th>\n",
       "      <td>2020-06-01</td>\n",
       "      <td>Starship is the key to making life multiplanetary &amp; protecting the light of consciousness</td>\n",
       "      <td>2282</td>\n",
       "      <td>35878</td>\n",
       "    </tr>\n",
       "    <tr>\n",
       "      <th>708</th>\n",
       "      <td>2020-06-01</td>\n",
       "      <td>Well said</td>\n",
       "      <td>474</td>\n",
       "      <td>11581</td>\n",
       "    </tr>\n",
       "    <tr>\n",
       "      <th>709</th>\n",
       "      <td>2020-06-01</td>\n",
       "      <td>Definitely not right that the other officers were charged with nothing. What message does this send in general to officers who stand by while another does wrong? #JusticeForGeorge</td>\n",
       "      <td>1362</td>\n",
       "      <td>9835</td>\n",
       "    </tr>\n",
       "    <tr>\n",
       "      <th>710</th>\n",
       "      <td>2020-06-01</td>\n",
       "      <td>Where’s the banana!?</td>\n",
       "      <td>1570</td>\n",
       "      <td>68253</td>\n",
       "    </tr>\n",
       "  </tbody>\n",
       "</table>\n",
       "</div>"
      ],
      "text/plain": [
       "           date  \\\n",
       "706  2020-06-02   \n",
       "707  2020-06-01   \n",
       "708  2020-06-01   \n",
       "709  2020-06-01   \n",
       "710  2020-06-01   \n",
       "\n",
       "                                                                                                                                                                                   tweet  \\\n",
       "706                                                                                                                                                              Off Twitter for a while   \n",
       "707                                                                                            Starship is the key to making life multiplanetary & protecting the light of consciousness   \n",
       "708                                                                                                                                                                            Well said   \n",
       "709  Definitely not right that the other officers were charged with nothing. What message does this send in general to officers who stand by while another does wrong? #JusticeForGeorge   \n",
       "710                                                                                                                                                                 Where’s the banana!?   \n",
       "\n",
       "     retweet_count  fav_count  \n",
       "706          31937     564842  \n",
       "707           2282      35878  \n",
       "708            474      11581  \n",
       "709           1362       9835  \n",
       "710           1570      68253  "
      ]
     },
     "execution_count": 29,
     "metadata": {},
     "output_type": "execute_result"
    }
   ],
   "source": [
    "df.tail()"
   ]
  },
  {
   "cell_type": "code",
   "execution_count": 30,
   "metadata": {},
   "outputs": [],
   "source": [
    "#Create variable to add on missing tweets \n",
    "addOn = df1.loc[11:,:]"
   ]
  },
  {
   "cell_type": "code",
   "execution_count": 31,
   "metadata": {},
   "outputs": [],
   "source": [
    "#Append on to df\n",
    "tweetDF = df.append(addOn).reset_index(drop=True)"
   ]
  },
  {
   "cell_type": "code",
   "execution_count": 36,
   "metadata": {},
   "outputs": [
    {
     "data": {
      "text/plain": [
       "10519"
      ]
     },
     "execution_count": 36,
     "metadata": {},
     "output_type": "execute_result"
    }
   ],
   "source": [
    "len(tweetDF)"
   ]
  },
  {
   "cell_type": "code",
   "execution_count": 37,
   "metadata": {},
   "outputs": [],
   "source": [
    "#Regex To classsify Business or personal before classifying Manually \n",
    "import re"
   ]
  },
  {
   "cell_type": "code",
   "execution_count": 40,
   "metadata": {},
   "outputs": [],
   "source": [
    "#regex to classify if was business or personal\n",
    "#Classifying business or personal tweets  \n",
    "def word_in_text(word, text):\n",
    "    word = word.lower()\n",
    "    text = text.lower()\n",
    "    match = re.search(word, text, re.I)\n",
    "    if match:\n",
    "        return 1\n",
    "    return 0"
   ]
  },
  {
   "cell_type": "code",
   "execution_count": 41,
   "metadata": {},
   "outputs": [],
   "source": [
    "#Regex to do a quick classify of biz vs personal tweets \n",
    "tweetDF['tweetBiz'] = tweetDF['tweet'].apply(lambda tweet: word_in_text(r'(tesla|\\\n",
    "Model Y|Model X|stock|Model S|SN4|SpaceX|economy|Space Station|Falcon|IPO|\\\n",
    "Dragon|engines|cars|Grasshopper|Nintendo|Dragon spacecraft|carbon tax|thrusters|\\\n",
    "solar|solar power|F9|Rocket|booster|Roadster|Gigafactory|Model W|Dragon|FAA|\\\n",
    "regulatory approval|China|SolarCity|President|White House|NASA|8.1|X and S|Model 3|\\\n",
    "[0-9]|product|software version|Cybertruck|Regulatory approval|Boring Company|starlink|\\\n",
    "roadsters|Jim Cramer|Hopper|Autopilot|OpenAI|Sentry mode|super chargers|\\\n",
    "CH4 hydrogen cars|FOIA|short-sellers|BFR|GOP|HyperLoop|X.com|Rocket Fairing|\\\n",
    "Thai Cave rescue|LopezLinnete|420|sentient seats| skylab|Gary the Snail|\\\n",
    "Teslaquilla bottles|Delta IV|Not a flamethrower|neural net|HG2G|FAA|\\\n",
    "NK|EV adoption electric vehicles|RHD|Solary City|P100D|vw kombi tesla|\\\n",
    "lz 1 2 landing zone|grass hopper|super draco)', tweet))"
   ]
  },
  {
   "cell_type": "code",
   "execution_count": 42,
   "metadata": {},
   "outputs": [],
   "source": [
    "#Now to double check the last few entries \n",
    "tweetDF.to_excel('tweetsClassify.xlsx')"
   ]
  },
  {
   "cell_type": "code",
   "execution_count": 43,
   "metadata": {},
   "outputs": [],
   "source": [
    "#classify manually after regex\n",
    "#1 is tweetBiz 0 is Personal \n",
    "# df = pd.read_excel('data/tweetsClassify.xlsx', index_col = False)\n",
    "# df = df.drop(columns = 'Unnamed: 0')"
   ]
  },
  {
   "cell_type": "code",
   "execution_count": 48,
   "metadata": {},
   "outputs": [],
   "source": [
    "df = pd.read_json('data/tweetdataV7.json')"
   ]
  },
  {
   "cell_type": "code",
   "execution_count": 49,
   "metadata": {},
   "outputs": [],
   "source": [
    "#Add Sentiment \n",
    "#use sentiment analyzer \n",
    "from vaderSentiment.vaderSentiment import SentimentIntensityAnalyzer\n",
    "analyser = SentimentIntensityAnalyzer()\n",
    "\n",
    "def vader_compound(sentence):\n",
    "    score = analyser.polarity_scores(sentence)\n",
    "    return score['compound']"
   ]
  },
  {
   "cell_type": "code",
   "execution_count": 50,
   "metadata": {},
   "outputs": [],
   "source": [
    "#Replace np.nan to None \n",
    "df['tweet'] = df['tweet'].replace(np.nan, 'None')\n",
    "df['tweet'] = df['tweet'].replace('None', '')"
   ]
  },
  {
   "cell_type": "code",
   "execution_count": 51,
   "metadata": {},
   "outputs": [],
   "source": [
    "#Apply Compound score\n",
    "df['compound'] = df['tweet'].apply(vader_compound)"
   ]
  },
  {
   "cell_type": "code",
   "execution_count": 52,
   "metadata": {},
   "outputs": [],
   "source": [
    "#Positive Negative Neutral Classification\n",
    "def sentiment(compound):\n",
    "  if compound >= 0.05:\n",
    "    return 'positive'\n",
    "  elif compound <= -0.05:\n",
    "    return 'negative'\n",
    "  else:\n",
    "    return 'neutral'"
   ]
  },
  {
   "cell_type": "code",
   "execution_count": 53,
   "metadata": {},
   "outputs": [],
   "source": [
    "#Add sentiment Column \n",
    "df['sentiment'] = df['compound'].apply(lambda x: sentiment(x))"
   ]
  },
  {
   "cell_type": "code",
   "execution_count": 54,
   "metadata": {},
   "outputs": [],
   "source": [
    "#Add Tweet Length\n",
    "df['tweetLen'] = df['tweet'].apply(lambda x: len(x.split()))"
   ]
  },
  {
   "cell_type": "code",
   "execution_count": 55,
   "metadata": {},
   "outputs": [],
   "source": [
    "#Drop Blank Tweets that were Images used by Elon we can add Images\n",
    "#In a future project with a CNN to further stack the model \n",
    "df1 = df[df['tweet'] != '']\n",
    "df1 = df1.reset_index()"
   ]
  },
  {
   "cell_type": "code",
   "execution_count": 56,
   "metadata": {},
   "outputs": [],
   "source": [
    "#Get rid of strings in classification \n",
    "df1['tweetBiz'] = df1['tweetBiz'].replace('1',1)\n",
    "df1['tweetBiz'] = df1['tweetBiz'].replace('0',0)"
   ]
  },
  {
   "cell_type": "code",
   "execution_count": 58,
   "metadata": {},
   "outputs": [],
   "source": [
    "import matplotlib.pyplot as plt\n",
    "import seaborn as sns"
   ]
  },
  {
   "cell_type": "code",
   "execution_count": 59,
   "metadata": {},
   "outputs": [
    {
     "data": {
      "image/png": "[encoded data removed]",
      "text/plain": [
       "<Figure size 720x576 with 1 Axes>"
      ]
     },
     "metadata": {
      "needs_background": "light"
     },
     "output_type": "display_data"
    }
   ],
   "source": [
    "plt.figure(figsize = (10,8))\n",
    "sns.countplot(df1['tweetBiz'])\n",
    "plt.xticks(rotation = 90)\n",
    "plt.show()"
   ]
  },
  {
   "cell_type": "code",
   "execution_count": 60,
   "metadata": {},
   "outputs": [],
   "source": [
    "#tweetBiz change 1 to Business and 0 to Personal \n",
    "df1['tweetBiz'] = np.where(df1['tweetBiz'] == 1, 'Business', 'Personal')"
   ]
  },
  {
   "cell_type": "code",
   "execution_count": 61,
   "metadata": {},
   "outputs": [
    {
     "data": {
      "image/png": "[encoded data removed]",
      "text/plain": [
       "<Figure size 720x576 with 1 Axes>"
      ]
     },
     "metadata": {
      "needs_background": "light"
     },
     "output_type": "display_data"
    }
   ],
   "source": [
    "plt.figure(figsize = (10,8))\n",
    "sns.countplot(df1['tweetBiz'])\n",
    "plt.xticks(rotation = 90)\n",
    "plt.show()"
   ]
  },
  {
   "cell_type": "code",
   "execution_count": 62,
   "metadata": {},
   "outputs": [],
   "source": [
    "#Concat tweetBiz and sentiment \n",
    "df1['tweetType'] = df1['tweetBiz'] + ' ' + df1['sentiment']"
   ]
  },
  {
   "cell_type": "code",
   "execution_count": 63,
   "metadata": {},
   "outputs": [],
   "source": [
    "#Drop unnecssary columns we will add compound later again when we combine the tweets\n",
    "df1 = df1.drop(columns = ['tweetBiz', 'sentiment'])"
   ]
  },
  {
   "cell_type": "code",
   "execution_count": 65,
   "metadata": {},
   "outputs": [
    {
     "data": {
      "text/html": [
       "<div>\n",
       "<style scoped>\n",
       "    .dataframe tbody tr th:only-of-type {\n",
       "        vertical-align: middle;\n",
       "    }\n",
       "\n",
       "    .dataframe tbody tr th {\n",
       "        vertical-align: top;\n",
       "    }\n",
       "\n",
       "    .dataframe thead th {\n",
       "        text-align: right;\n",
       "    }\n",
       "</style>\n",
       "<table border=\"1\" class=\"dataframe\">\n",
       "  <thead>\n",
       "    <tr style=\"text-align: right;\">\n",
       "      <th></th>\n",
       "      <th>index</th>\n",
       "      <th>date</th>\n",
       "      <th>tweet</th>\n",
       "      <th>retweet_count</th>\n",
       "      <th>fav_count</th>\n",
       "      <th>cleanTweet</th>\n",
       "      <th>compound</th>\n",
       "      <th>tweetLen</th>\n",
       "      <th>tweetType</th>\n",
       "    </tr>\n",
       "  </thead>\n",
       "  <tbody>\n",
       "    <tr>\n",
       "      <th>93</th>\n",
       "      <td>93</td>\n",
       "      <td>2020-07-26</td>\n",
       "      <td>Great song</td>\n",
       "      <td>108</td>\n",
       "      <td>6321</td>\n",
       "      <td>great song</td>\n",
       "      <td>0.6249</td>\n",
       "      <td>2</td>\n",
       "      <td>Personal positive</td>\n",
       "    </tr>\n",
       "    <tr>\n",
       "      <th>94</th>\n",
       "      <td>94</td>\n",
       "      <td>2020-07-26</td>\n",
       "      <td>Haha thanks Kara :)</td>\n",
       "      <td>29</td>\n",
       "      <td>1377</td>\n",
       "      <td>haha thanks kara</td>\n",
       "      <td>0.8360</td>\n",
       "      <td>4</td>\n",
       "      <td>Personal positive</td>\n",
       "    </tr>\n",
       "    <tr>\n",
       "      <th>95</th>\n",
       "      <td>95</td>\n",
       "      <td>2020-07-26</td>\n",
       "      <td>For sure</td>\n",
       "      <td>57</td>\n",
       "      <td>3336</td>\n",
       "      <td>sure</td>\n",
       "      <td>0.3182</td>\n",
       "      <td>2</td>\n",
       "      <td>Personal positive</td>\n",
       "    </tr>\n",
       "    <tr>\n",
       "      <th>96</th>\n",
       "      <td>96</td>\n",
       "      <td>2020-07-26</td>\n",
       "      <td>Yeah, we’re hunkering down here until the hurricane passes</td>\n",
       "      <td>112</td>\n",
       "      <td>2966</td>\n",
       "      <td>yeah hunkering hurricane passes</td>\n",
       "      <td>0.2960</td>\n",
       "      <td>9</td>\n",
       "      <td>Personal positive</td>\n",
       "    </tr>\n",
       "    <tr>\n",
       "      <th>97</th>\n",
       "      <td>97</td>\n",
       "      <td>2020-07-25</td>\n",
       "      <td>Exactly!</td>\n",
       "      <td>49</td>\n",
       "      <td>1228</td>\n",
       "      <td>exactly</td>\n",
       "      <td>0.0000</td>\n",
       "      <td>1</td>\n",
       "      <td>Personal neutral</td>\n",
       "    </tr>\n",
       "    <tr>\n",
       "      <th>...</th>\n",
       "      <td>...</td>\n",
       "      <td>...</td>\n",
       "      <td>...</td>\n",
       "      <td>...</td>\n",
       "      <td>...</td>\n",
       "      <td>...</td>\n",
       "      <td>...</td>\n",
       "      <td>...</td>\n",
       "      <td>...</td>\n",
       "    </tr>\n",
       "    <tr>\n",
       "      <th>10288</th>\n",
       "      <td>10288</td>\n",
       "      <td>2011-12-03</td>\n",
       "      <td>That was a total non sequitur btw</td>\n",
       "      <td>4</td>\n",
       "      <td>7</td>\n",
       "      <td>total non sequitur btw</td>\n",
       "      <td>0.0000</td>\n",
       "      <td>7</td>\n",
       "      <td>Personal neutral</td>\n",
       "    </tr>\n",
       "    <tr>\n",
       "      <th>10289</th>\n",
       "      <td>10289</td>\n",
       "      <td>2011-12-03</td>\n",
       "      <td>Great Voltaire quote, arguably better than Twain. Hearing news of his own death, Voltaire replied the reports were true, only premature.</td>\n",
       "      <td>25</td>\n",
       "      <td>29</td>\n",
       "      <td>great voltaire quote arguably better twain hearing news death voltaire replied reports true premature</td>\n",
       "      <td>0.5994</td>\n",
       "      <td>21</td>\n",
       "      <td>Business positive</td>\n",
       "    </tr>\n",
       "    <tr>\n",
       "      <th>10290</th>\n",
       "      <td>10290</td>\n",
       "      <td>2011-12-01</td>\n",
       "      <td>I made the volume on the Model S http://ow.ly/i/mtD7 go to 11. Now I just need to work in a miniature Stonehenge...</td>\n",
       "      <td>8</td>\n",
       "      <td>23</td>\n",
       "      <td>made volume model s go now just need work miniature stonehenge</td>\n",
       "      <td>0.0000</td>\n",
       "      <td>22</td>\n",
       "      <td>Business neutral</td>\n",
       "    </tr>\n",
       "    <tr>\n",
       "      <th>10291</th>\n",
       "      <td>10291</td>\n",
       "      <td>2011-12-01</td>\n",
       "      <td>Went to Iceland on Sat to ride bumper cars on ice! No, not the country, Vlad's rink in Van Nuys. Awesome family fun :)</td>\n",
       "      <td>18</td>\n",
       "      <td>165</td>\n",
       "      <td>went iceland sat ride bumper cars ice country vlads rink van nuys awesome family fun</td>\n",
       "      <td>0.8588</td>\n",
       "      <td>24</td>\n",
       "      <td>Personal positive</td>\n",
       "    </tr>\n",
       "    <tr>\n",
       "      <th>10292</th>\n",
       "      <td>10292</td>\n",
       "      <td>2010-06-04</td>\n",
       "      <td>Please ignore prior tweets, as that was someone pretending to be me :) This is actually me.</td>\n",
       "      <td>130</td>\n",
       "      <td>523</td>\n",
       "      <td>please ignore prior tweets someone pretending actually</td>\n",
       "      <td>0.4939</td>\n",
       "      <td>17</td>\n",
       "      <td>Personal positive</td>\n",
       "    </tr>\n",
       "  </tbody>\n",
       "</table>\n",
       "<p>10200 rows × 9 columns</p>\n",
       "</div>"
      ],
      "text/plain": [
       "       index       date  \\\n",
       "93        93 2020-07-26   \n",
       "94        94 2020-07-26   \n",
       "95        95 2020-07-26   \n",
       "96        96 2020-07-26   \n",
       "97        97 2020-07-25   \n",
       "...      ...        ...   \n",
       "10288  10288 2011-12-03   \n",
       "10289  10289 2011-12-03   \n",
       "10290  10290 2011-12-01   \n",
       "10291  10291 2011-12-01   \n",
       "10292  10292 2010-06-04   \n",
       "\n",
       "                                                                                                                                          tweet  \\\n",
       "93                                                                                                                                   Great song   \n",
       "94                                                                                                                          Haha thanks Kara :)   \n",
       "95                                                                                                                                     For sure   \n",
       "96                                                                                   Yeah, we’re hunkering down here until the hurricane passes   \n",
       "97                                                                                                                                     Exactly!   \n",
       "...                                                                                                                                         ...   \n",
       "10288                                                                                                         That was a total non sequitur btw   \n",
       "10289  Great Voltaire quote, arguably better than Twain. Hearing news of his own death, Voltaire replied the reports were true, only premature.   \n",
       "10290                       I made the volume on the Model S http://ow.ly/i/mtD7 go to 11. Now I just need to work in a miniature Stonehenge...   \n",
       "10291                    Went to Iceland on Sat to ride bumper cars on ice! No, not the country, Vlad's rink in Van Nuys. Awesome family fun :)   \n",
       "10292                                               Please ignore prior tweets, as that was someone pretending to be me :) This is actually me.   \n",
       "\n",
       "       retweet_count  fav_count  \\\n",
       "93               108       6321   \n",
       "94                29       1377   \n",
       "95                57       3336   \n",
       "96               112       2966   \n",
       "97                49       1228   \n",
       "...              ...        ...   \n",
       "10288              4          7   \n",
       "10289             25         29   \n",
       "10290              8         23   \n",
       "10291             18        165   \n",
       "10292            130        523   \n",
       "\n",
       "                                                                                                  cleanTweet  \\\n",
       "93                                                                                                great song   \n",
       "94                                                                                         haha thanks kara    \n",
       "95                                                                                                      sure   \n",
       "96                                                                           yeah hunkering hurricane passes   \n",
       "97                                                                                                   exactly   \n",
       "...                                                                                                      ...   \n",
       "10288                                                                                 total non sequitur btw   \n",
       "10289  great voltaire quote arguably better twain hearing news death voltaire replied reports true premature   \n",
       "10290                                         made volume model s go now just need work miniature stonehenge   \n",
       "10291                  went iceland sat ride bumper cars ice country vlads rink van nuys awesome family fun    \n",
       "10292                                                 please ignore prior tweets someone pretending actually   \n",
       "\n",
       "       compound  tweetLen          tweetType  \n",
       "93       0.6249         2  Personal positive  \n",
       "94       0.8360         4  Personal positive  \n",
       "95       0.3182         2  Personal positive  \n",
       "96       0.2960         9  Personal positive  \n",
       "97       0.0000         1   Personal neutral  \n",
       "...         ...       ...                ...  \n",
       "10288    0.0000         7   Personal neutral  \n",
       "10289    0.5994        21  Business positive  \n",
       "10290    0.0000        22   Business neutral  \n",
       "10291    0.8588        24  Personal positive  \n",
       "10292    0.4939        17  Personal positive  \n",
       "\n",
       "[10200 rows x 9 columns]"
      ]
     },
     "execution_count": 65,
     "metadata": {},
     "output_type": "execute_result"
    }
   ],
   "source": [
    "df1.tail(10200)"
   ]
  },
  {
   "cell_type": "code",
   "execution_count": 67,
   "metadata": {},
   "outputs": [],
   "source": [
    "#Drop last row there were too many days without a tweet \n",
    "df1 = df1.iloc[:10292,:]"
   ]
  },
  {
   "cell_type": "code",
   "execution_count": 68,
   "metadata": {},
   "outputs": [],
   "source": [
    "df1 = df1.drop(columns = 'index').reset_index(drop = True)"
   ]
  },
  {
   "cell_type": "code",
   "execution_count": 69,
   "metadata": {},
   "outputs": [
    {
     "data": {
      "text/html": [
       "<div>\n",
       "<style scoped>\n",
       "    .dataframe tbody tr th:only-of-type {\n",
       "        vertical-align: middle;\n",
       "    }\n",
       "\n",
       "    .dataframe tbody tr th {\n",
       "        vertical-align: top;\n",
       "    }\n",
       "\n",
       "    .dataframe thead th {\n",
       "        text-align: right;\n",
       "    }\n",
       "</style>\n",
       "<table border=\"1\" class=\"dataframe\">\n",
       "  <thead>\n",
       "    <tr style=\"text-align: right;\">\n",
       "      <th></th>\n",
       "      <th>date</th>\n",
       "      <th>tweet</th>\n",
       "      <th>retweet_count</th>\n",
       "      <th>fav_count</th>\n",
       "      <th>cleanTweet</th>\n",
       "      <th>compound</th>\n",
       "      <th>tweetLen</th>\n",
       "      <th>tweetType</th>\n",
       "    </tr>\n",
       "  </thead>\n",
       "  <tbody>\n",
       "    <tr>\n",
       "      <th>10287</th>\n",
       "      <td>2011-12-04</td>\n",
       "      <td>Am reading a great biography of Ben Franklin by Isaacson. Highly recommended.</td>\n",
       "      <td>9</td>\n",
       "      <td>30</td>\n",
       "      <td>reading great biography ben franklin by isaacson highly recommended</td>\n",
       "      <td>0.7346</td>\n",
       "      <td>12</td>\n",
       "      <td>Personal positive</td>\n",
       "    </tr>\n",
       "    <tr>\n",
       "      <th>10288</th>\n",
       "      <td>2011-12-03</td>\n",
       "      <td>That was a total non sequitur btw</td>\n",
       "      <td>4</td>\n",
       "      <td>7</td>\n",
       "      <td>total non sequitur btw</td>\n",
       "      <td>0.0000</td>\n",
       "      <td>7</td>\n",
       "      <td>Personal neutral</td>\n",
       "    </tr>\n",
       "    <tr>\n",
       "      <th>10289</th>\n",
       "      <td>2011-12-03</td>\n",
       "      <td>Great Voltaire quote, arguably better than Twain. Hearing news of his own death, Voltaire replied the reports were true, only premature.</td>\n",
       "      <td>25</td>\n",
       "      <td>29</td>\n",
       "      <td>great voltaire quote arguably better twain hearing news death voltaire replied reports true premature</td>\n",
       "      <td>0.5994</td>\n",
       "      <td>21</td>\n",
       "      <td>Business positive</td>\n",
       "    </tr>\n",
       "    <tr>\n",
       "      <th>10290</th>\n",
       "      <td>2011-12-01</td>\n",
       "      <td>I made the volume on the Model S http://ow.ly/i/mtD7 go to 11. Now I just need to work in a miniature Stonehenge...</td>\n",
       "      <td>8</td>\n",
       "      <td>23</td>\n",
       "      <td>made volume model s go now just need work miniature stonehenge</td>\n",
       "      <td>0.0000</td>\n",
       "      <td>22</td>\n",
       "      <td>Business neutral</td>\n",
       "    </tr>\n",
       "    <tr>\n",
       "      <th>10291</th>\n",
       "      <td>2011-12-01</td>\n",
       "      <td>Went to Iceland on Sat to ride bumper cars on ice! No, not the country, Vlad's rink in Van Nuys. Awesome family fun :)</td>\n",
       "      <td>18</td>\n",
       "      <td>165</td>\n",
       "      <td>went iceland sat ride bumper cars ice country vlads rink van nuys awesome family fun</td>\n",
       "      <td>0.8588</td>\n",
       "      <td>24</td>\n",
       "      <td>Personal positive</td>\n",
       "    </tr>\n",
       "  </tbody>\n",
       "</table>\n",
       "</div>"
      ],
      "text/plain": [
       "            date  \\\n",
       "10287 2011-12-04   \n",
       "10288 2011-12-03   \n",
       "10289 2011-12-03   \n",
       "10290 2011-12-01   \n",
       "10291 2011-12-01   \n",
       "\n",
       "                                                                                                                                          tweet  \\\n",
       "10287                                                             Am reading a great biography of Ben Franklin by Isaacson. Highly recommended.   \n",
       "10288                                                                                                         That was a total non sequitur btw   \n",
       "10289  Great Voltaire quote, arguably better than Twain. Hearing news of his own death, Voltaire replied the reports were true, only premature.   \n",
       "10290                       I made the volume on the Model S http://ow.ly/i/mtD7 go to 11. Now I just need to work in a miniature Stonehenge...   \n",
       "10291                    Went to Iceland on Sat to ride bumper cars on ice! No, not the country, Vlad's rink in Van Nuys. Awesome family fun :)   \n",
       "\n",
       "       retweet_count  fav_count  \\\n",
       "10287              9         30   \n",
       "10288              4          7   \n",
       "10289             25         29   \n",
       "10290              8         23   \n",
       "10291             18        165   \n",
       "\n",
       "                                                                                                  cleanTweet  \\\n",
       "10287                                    reading great biography ben franklin by isaacson highly recommended   \n",
       "10288                                                                                 total non sequitur btw   \n",
       "10289  great voltaire quote arguably better twain hearing news death voltaire replied reports true premature   \n",
       "10290                                         made volume model s go now just need work miniature stonehenge   \n",
       "10291                  went iceland sat ride bumper cars ice country vlads rink van nuys awesome family fun    \n",
       "\n",
       "       compound  tweetLen          tweetType  \n",
       "10287    0.7346        12  Personal positive  \n",
       "10288    0.0000         7   Personal neutral  \n",
       "10289    0.5994        21  Business positive  \n",
       "10290    0.0000        22   Business neutral  \n",
       "10291    0.8588        24  Personal positive  "
      ]
     },
     "execution_count": 69,
     "metadata": {},
     "output_type": "execute_result"
    }
   ],
   "source": [
    "df1.tail()"
   ]
  },
  {
   "cell_type": "code",
   "execution_count": 70,
   "metadata": {},
   "outputs": [
    {
     "data": {
      "image/png": "[encoded data removed]",
      "text/plain": [
       "<Figure size 720x576 with 1 Axes>"
      ]
     },
     "metadata": {
      "needs_background": "light"
     },
     "output_type": "display_data"
    }
   ],
   "source": [
    "plt.figure(figsize = (10,8))\n",
    "sns.countplot(df1['tweetType'])\n",
    "plt.xticks(rotation = 90)\n",
    "plt.show()"
   ]
  },
  {
   "cell_type": "code",
   "execution_count": 71,
   "metadata": {},
   "outputs": [],
   "source": [
    "#Now Save dataframe for distilBert Model and tweet visualization \n",
    "df1.to_json('data/tweetsDataV7.json')"
   ]
  },
  {
   "cell_type": "markdown",
   "metadata": {},
   "source": [
    "# Tesla Financial Data"
   ]
  },
  {
   "cell_type": "code",
   "execution_count": 72,
   "metadata": {},
   "outputs": [
    {
     "name": "stderr",
     "output_type": "stream",
     "text": [
      "/Library/Frameworks/Python.framework/Versions/3.7/lib/python3.7/site-packages/pandas_datareader/compat/__init__.py:7: FutureWarning: pandas.util.testing is deprecated. Use the functions in the public API at pandas.testing instead.\n",
      "  from pandas.util.testing import assert_frame_equal\n"
     ]
    }
   ],
   "source": [
    "from pandas_datareader import data as wb"
   ]
  },
  {
   "cell_type": "code",
   "execution_count": 95,
   "metadata": {},
   "outputs": [],
   "source": [
    "#Choose Tesla ticker and load in financial data \n",
    "#12-1-2011 to 6-30-2020\n",
    "ticker = 'TSLA'\n",
    "stockDF = pd.DataFrame(wb.DataReader(ticker, data_source= 'yahoo',\n",
    "                                     start = '12-01-2011', end = '8-1-2020'))"
   ]
  },
  {
   "cell_type": "code",
   "execution_count": 96,
   "metadata": {},
   "outputs": [],
   "source": [
    "#Reset the index\n",
    "stockDF = stockDF.reset_index()"
   ]
  },
  {
   "cell_type": "code",
   "execution_count": 97,
   "metadata": {},
   "outputs": [],
   "source": [
    "#Change timestamp to datetime \n",
    "x = lambda a : a.date()\n",
    "\n",
    "stockDF['Date'] = stockDF['Date'].apply(x)\n",
    "stockDF.rename(columns = {'Date': 'date'}, inplace = True)"
   ]
  },
  {
   "cell_type": "code",
   "execution_count": 98,
   "metadata": {},
   "outputs": [
    {
     "data": {
      "text/html": [
       "<div>\n",
       "<style scoped>\n",
       "    .dataframe tbody tr th:only-of-type {\n",
       "        vertical-align: middle;\n",
       "    }\n",
       "\n",
       "    .dataframe tbody tr th {\n",
       "        vertical-align: top;\n",
       "    }\n",
       "\n",
       "    .dataframe thead th {\n",
       "        text-align: right;\n",
       "    }\n",
       "</style>\n",
       "<table border=\"1\" class=\"dataframe\">\n",
       "  <thead>\n",
       "    <tr style=\"text-align: right;\">\n",
       "      <th></th>\n",
       "      <th>date</th>\n",
       "      <th>High</th>\n",
       "      <th>Low</th>\n",
       "      <th>Open</th>\n",
       "      <th>Close</th>\n",
       "      <th>Volume</th>\n",
       "      <th>Adj Close</th>\n",
       "    </tr>\n",
       "  </thead>\n",
       "  <tbody>\n",
       "    <tr>\n",
       "      <th>0</th>\n",
       "      <td>2011-12-01</td>\n",
       "      <td>33.990002</td>\n",
       "      <td>31.980000</td>\n",
       "      <td>32.570000</td>\n",
       "      <td>32.599998</td>\n",
       "      <td>1030200</td>\n",
       "      <td>32.599998</td>\n",
       "    </tr>\n",
       "    <tr>\n",
       "      <th>1</th>\n",
       "      <td>2011-12-02</td>\n",
       "      <td>33.689999</td>\n",
       "      <td>32.400002</td>\n",
       "      <td>32.830002</td>\n",
       "      <td>33.299999</td>\n",
       "      <td>802800</td>\n",
       "      <td>33.299999</td>\n",
       "    </tr>\n",
       "    <tr>\n",
       "      <th>2</th>\n",
       "      <td>2011-12-05</td>\n",
       "      <td>35.000000</td>\n",
       "      <td>33.430000</td>\n",
       "      <td>33.529999</td>\n",
       "      <td>34.419998</td>\n",
       "      <td>1160100</td>\n",
       "      <td>34.419998</td>\n",
       "    </tr>\n",
       "    <tr>\n",
       "      <th>3</th>\n",
       "      <td>2011-12-06</td>\n",
       "      <td>34.980000</td>\n",
       "      <td>34.029999</td>\n",
       "      <td>34.200001</td>\n",
       "      <td>34.869999</td>\n",
       "      <td>951800</td>\n",
       "      <td>34.869999</td>\n",
       "    </tr>\n",
       "    <tr>\n",
       "      <th>4</th>\n",
       "      <td>2011-12-07</td>\n",
       "      <td>34.889999</td>\n",
       "      <td>33.799999</td>\n",
       "      <td>34.630001</td>\n",
       "      <td>34.189999</td>\n",
       "      <td>674300</td>\n",
       "      <td>34.189999</td>\n",
       "    </tr>\n",
       "  </tbody>\n",
       "</table>\n",
       "</div>"
      ],
      "text/plain": [
       "         date       High        Low       Open      Close   Volume  Adj Close\n",
       "0  2011-12-01  33.990002  31.980000  32.570000  32.599998  1030200  32.599998\n",
       "1  2011-12-02  33.689999  32.400002  32.830002  33.299999   802800  33.299999\n",
       "2  2011-12-05  35.000000  33.430000  33.529999  34.419998  1160100  34.419998\n",
       "3  2011-12-06  34.980000  34.029999  34.200001  34.869999   951800  34.869999\n",
       "4  2011-12-07  34.889999  33.799999  34.630001  34.189999   674300  34.189999"
      ]
     },
     "execution_count": 98,
     "metadata": {},
     "output_type": "execute_result"
    }
   ],
   "source": [
    "stockDF.head()"
   ]
  },
  {
   "cell_type": "code",
   "execution_count": 77,
   "metadata": {},
   "outputs": [
    {
     "data": {
      "text/plain": [
       "(2180, 7)"
      ]
     },
     "execution_count": 77,
     "metadata": {},
     "output_type": "execute_result"
    }
   ],
   "source": [
    "#Check Shape\n",
    "stockDF.shape"
   ]
  },
  {
   "cell_type": "code",
   "execution_count": 103,
   "metadata": {},
   "outputs": [],
   "source": [
    "#for randomforest and xgboost we will move adjusted close back one date\n",
    "stockDF['Adj Close'] = stockDF['Adj Close'].shift(-1)"
   ]
  },
  {
   "cell_type": "code",
   "execution_count": 105,
   "metadata": {},
   "outputs": [],
   "source": [
    "stockDF = stockDF.dropna()"
   ]
  },
  {
   "cell_type": "code",
   "execution_count": 106,
   "metadata": {},
   "outputs": [],
   "source": [
    "stockDF.to_json('data/tslaMLStockV7.json')"
   ]
  },
  {
   "cell_type": "code",
   "execution_count": 79,
   "metadata": {},
   "outputs": [],
   "source": [
    "#Save Financial Information\n",
    "#stockDF.to_json('data/tslaStockV7.json')"
   ]
  },
  {
   "cell_type": "markdown",
   "metadata": {},
   "source": [
    "# Combine Tweet and Financial Data"
   ]
  },
  {
   "cell_type": "code",
   "execution_count": 122,
   "metadata": {},
   "outputs": [],
   "source": [
    "tweets = pd.read_json('data/tweetsDataV7.json')\n",
    "fin = pd.read_json('data/tslaMLStockV7.json')"
   ]
  },
  {
   "cell_type": "code",
   "execution_count": 123,
   "metadata": {},
   "outputs": [],
   "source": [
    "#Aggregate retweet count and fav_count by date, concat tweet and tweetType \n",
    "number = tweets.groupby('date').sum().reset_index()\n",
    "text = tweets.groupby('date')['tweet'].apply(lambda x: ', '.join(x)).reset_index()\n",
    "tweetType = tweets.groupby('date')['tweetType'].apply(lambda x: ', '.join(x)).reset_index()"
   ]
  },
  {
   "cell_type": "code",
   "execution_count": 124,
   "metadata": {},
   "outputs": [],
   "source": [
    "#Merge the dataframes together \n",
    "df = pd.merge(number, text, how='outer', on='date')\n",
    "df = pd.merge(df, tweetType, how = 'outer', on = 'date')"
   ]
  },
  {
   "cell_type": "code",
   "execution_count": 125,
   "metadata": {},
   "outputs": [],
   "source": [
    "#Drop Columns \n",
    "df = df.drop(columns = 'compound')"
   ]
  },
  {
   "cell_type": "code",
   "execution_count": 126,
   "metadata": {},
   "outputs": [],
   "source": [
    "#Do a Count of tweetType of each column make it into 6 columns \n",
    "categories = ['Business positive', 'Business neutral', 'Business negative',\n",
    "              'Personal positive', 'Personal neutral', 'Personal negative']\n",
    "\n",
    "for x in categories:\n",
    "  for a in df['tweetType']:\n",
    "    df[x] = [a.count(x) for a in df['tweetType']]"
   ]
  },
  {
   "cell_type": "code",
   "execution_count": 127,
   "metadata": {},
   "outputs": [],
   "source": [
    "#Apply Vader Compound score \n",
    "df['compound'] = df['tweet'].apply(vader_compound)"
   ]
  },
  {
   "cell_type": "code",
   "execution_count": 128,
   "metadata": {},
   "outputs": [],
   "source": [
    "#combine tweet data with financial data\n",
    "elonDF = df.merge(fin, how = 'outer', on = 'date')"
   ]
  },
  {
   "cell_type": "code",
   "execution_count": 129,
   "metadata": {},
   "outputs": [],
   "source": [
    "elonDF = elonDF.sort_values('date').reset_index(drop = True)"
   ]
  },
  {
   "cell_type": "code",
   "execution_count": 130,
   "metadata": {},
   "outputs": [],
   "source": [
    "#Add dayOfWeek feature \n",
    "import datetime\n",
    "elonDF['dayOfWeek'] = elonDF['date'].apply(lambda x: x.strftime('%A'))"
   ]
  },
  {
   "cell_type": "code",
   "execution_count": 131,
   "metadata": {},
   "outputs": [
    {
     "data": {
      "text/html": [
       "<div>\n",
       "<style scoped>\n",
       "    .dataframe tbody tr th:only-of-type {\n",
       "        vertical-align: middle;\n",
       "    }\n",
       "\n",
       "    .dataframe tbody tr th {\n",
       "        vertical-align: top;\n",
       "    }\n",
       "\n",
       "    .dataframe thead th {\n",
       "        text-align: right;\n",
       "    }\n",
       "</style>\n",
       "<table border=\"1\" class=\"dataframe\">\n",
       "  <thead>\n",
       "    <tr style=\"text-align: right;\">\n",
       "      <th></th>\n",
       "      <th>date</th>\n",
       "      <th>retweet_count</th>\n",
       "      <th>fav_count</th>\n",
       "      <th>tweetLen</th>\n",
       "      <th>tweet</th>\n",
       "      <th>tweetType</th>\n",
       "      <th>Business positive</th>\n",
       "      <th>Business neutral</th>\n",
       "      <th>Business negative</th>\n",
       "      <th>Personal positive</th>\n",
       "      <th>Personal neutral</th>\n",
       "      <th>Personal negative</th>\n",
       "      <th>compound</th>\n",
       "      <th>High</th>\n",
       "      <th>Low</th>\n",
       "      <th>Open</th>\n",
       "      <th>Close</th>\n",
       "      <th>Volume</th>\n",
       "      <th>Adj Close</th>\n",
       "      <th>dayOfWeek</th>\n",
       "    </tr>\n",
       "  </thead>\n",
       "  <tbody>\n",
       "    <tr>\n",
       "      <th>2707</th>\n",
       "      <td>2020-07-27</td>\n",
       "      <td>154954.0</td>\n",
       "      <td>1337692.0</td>\n",
       "      <td>145.0</td>\n",
       "      <td>Whether commercial or government, monopolies are bad for the people, Sounds great, Haha, Das Kapital in a nutshell, What I like most is their great sense of humor, The left is losing the middle, Exactly, 🤣🤣, Hold my beer, Once an Onion, now a Rose, Wow, you think about me a lot!, You dropped this, 🌹, Haha, Giga Berlin will come together at an impossible-seeming speed. The prefabricated construction method in Germany is extremely impressive., Almost a decade ago. Original Dragon in background., Ya just can’t beat BR, Planet Claire is 🔥🔥, Fair point! Will discuss with team., He was amazing, Great song, Nickel is the biggest challenge for high-volume, long-range batteries! Australia &amp; Canada are doing pretty well. US nickel production is objectively very lame. Indonesia 🇮🇩 is great!, 🤣🤣, That’s me! Haha, This has a lot of potential. Lithium is pretty much everywhere.</td>\n",
       "      <td>Personal negative, Personal positive, Personal positive, Personal neutral, Personal positive, Personal negative, Personal neutral, Personal neutral, Personal neutral, Personal neutral, Personal positive, Personal neutral, Personal neutral, Personal positive, Business positive, Business positive, Personal neutral, Personal neutral, Personal positive, Personal positive, Personal positive, Business positive, Personal neutral, Personal positive, Business positive</td>\n",
       "      <td>4.0</td>\n",
       "      <td>0.0</td>\n",
       "      <td>0.0</td>\n",
       "      <td>9.0</td>\n",
       "      <td>10.0</td>\n",
       "      <td>2.0</td>\n",
       "      <td>0.9896</td>\n",
       "      <td>1547.939941</td>\n",
       "      <td>1413.000000</td>\n",
       "      <td>1435.0</td>\n",
       "      <td>1539.599976</td>\n",
       "      <td>16048700.0</td>\n",
       "      <td>1476.489990</td>\n",
       "      <td>Monday</td>\n",
       "    </tr>\n",
       "    <tr>\n",
       "      <th>2708</th>\n",
       "      <td>2020-07-28</td>\n",
       "      <td>1245.0</td>\n",
       "      <td>28715.0</td>\n",
       "      <td>73.0</td>\n",
       "      <td>Agreed, Haha, It’s a prototype of the color, And to think I used to like Bernie! 😢, @BernieSanders 🕊🕊, Maybe he’s feeling the bern haha, Fuel spin valve didn’t open. Will fix &amp; try again tomorrow. Also, some odd TVC hydraulic pump behavior., I was just out at the launch pad. Connector damaged in the storm, but fixed now. Might be able to fire tonight or at least get to the next issue.</td>\n",
       "      <td>Personal positive, Personal positive, Personal neutral, Personal negative, Personal neutral, Personal positive, Personal negative, Business negative</td>\n",
       "      <td>0.0</td>\n",
       "      <td>0.0</td>\n",
       "      <td>1.0</td>\n",
       "      <td>3.0</td>\n",
       "      <td>2.0</td>\n",
       "      <td>2.0</td>\n",
       "      <td>-0.1134</td>\n",
       "      <td>1564.699951</td>\n",
       "      <td>1474.420044</td>\n",
       "      <td>1504.0</td>\n",
       "      <td>1476.489990</td>\n",
       "      <td>15808700.0</td>\n",
       "      <td>1499.109985</td>\n",
       "      <td>Tuesday</td>\n",
       "    </tr>\n",
       "    <tr>\n",
       "      <th>2709</th>\n",
       "      <td>2020-07-29</td>\n",
       "      <td>5303.0</td>\n",
       "      <td>100007.0</td>\n",
       "      <td>79.0</td>\n",
       "      <td>😉, Sum &gt; parts, Should add a few miles of range, more in slow traffic, The government has the most money by far. They talk in trillions., Haha no one can ever have our top secret fart technology!!, 💕 💕, Sure, Tesla is open to licensing software and supplying powertrains &amp; batteries. We’re just trying to accelerate sustainable energy, not crush competitors!, What he doesn’t appear to appreciate is that government is just a monopolist corporation in the limit</td>\n",
       "      <td>Personal neutral, Personal neutral, Personal neutral, Personal neutral, Personal positive, Personal neutral, Personal positive, Business positive, Personal positive</td>\n",
       "      <td>1.0</td>\n",
       "      <td>0.0</td>\n",
       "      <td>0.0</td>\n",
       "      <td>3.0</td>\n",
       "      <td>5.0</td>\n",
       "      <td>0.0</td>\n",
       "      <td>0.8756</td>\n",
       "      <td>1534.810059</td>\n",
       "      <td>1487.000000</td>\n",
       "      <td>1501.0</td>\n",
       "      <td>1499.109985</td>\n",
       "      <td>9426900.0</td>\n",
       "      <td>1487.489990</td>\n",
       "      <td>Wednesday</td>\n",
       "    </tr>\n",
       "    <tr>\n",
       "      <th>2710</th>\n",
       "      <td>2020-07-30</td>\n",
       "      <td>91933.0</td>\n",
       "      <td>1162051.0</td>\n",
       "      <td>309.0</td>\n",
       "      <td>Lo Que Construimos, Cool, Starship SN5 just completed full duration static fire. 150m hop soon., 🖤🧛‍♀️Total Eclipse of the Heart 🧛‍♀️🖤, 😮, Not that I’m aware of, Yes. Could also extend range of hearing beyond normal frequencies and amplitudes. Deus Ex., Neuralinks are currently meant for mature brains &amp; functionality is lost if removed. Rewiring of neurons is certainly possible, but won’t make up for loss of the Link., Yes, should be possible to create a neural shunt from motor cortex to microcontrollers in muscle groups &amp; restore movement even if someone has a fully severed spinal cord. First part has already been demonstrated with Utah array, but not as an outpatient device., Will show neurons firing in real-time on August 28th. The matrix in the matrix., They don’t fire all at once. Some go several seconds to minutes without firing. Some fire several times per second. Very wide timing distribution., Congrats on a great launch!, But sometimes when we touch …, Adagio for Strings is great, Losing It, 🤣🤣, Mein Herz Brennt. Best boss battle song ever., Robot Heart is 🔥🔥, One of the all time best, Sure, Sure could use a good rave What’s your favorite techno, I … I just died in your arms tonight, The rumor that Bill Gates &amp; I are lovers is completely untrue, Yeah. Display will also soon render Teslas specifically as their model &amp; color instead of as a generic sedan/SUV. Has potential for a fun punch buggy sort of game., We’ve been working on this for about 4 years. Originally meant for rabies vaccine, but it can make pretty much anything that’s an RNA sequence. Critical path is completing human trials., 🎶 Billy G is not my lover 🎶, Sounds like he doesn’t realize Tesla makes the vaccine machine for CureVac, Thanks for letting me know. Will dig into it.</td>\n",
       "      <td>Personal neutral, Personal positive, Business negative, Personal neutral, Personal neutral, Personal neutral, Personal positive, Business negative, Business positive, Business negative, Business negative, Business positive, Personal neutral, Personal positive, Personal negative, Personal neutral, Personal positive, Personal neutral, Personal positive, Personal positive, Personal positive, Personal negative, Personal positive, Business positive, Personal positive, Personal negative, Business positive, Personal positive</td>\n",
       "      <td>4.0</td>\n",
       "      <td>0.0</td>\n",
       "      <td>4.0</td>\n",
       "      <td>10.0</td>\n",
       "      <td>7.0</td>\n",
       "      <td>3.0</td>\n",
       "      <td>0.9925</td>\n",
       "      <td>1513.239990</td>\n",
       "      <td>1471.000000</td>\n",
       "      <td>1488.0</td>\n",
       "      <td>1487.489990</td>\n",
       "      <td>7621000.0</td>\n",
       "      <td>1430.760010</td>\n",
       "      <td>Thursday</td>\n",
       "    </tr>\n",
       "    <tr>\n",
       "      <th>2711</th>\n",
       "      <td>2020-07-31</td>\n",
       "      <td>85083.0</td>\n",
       "      <td>770873.0</td>\n",
       "      <td>70.0</td>\n",
       "      <td>The Great Pyramid was the tallest structure made by humans for 3800 years. Three thousand, eight hundred years. https://en.m.wikipedia.org/wiki/Great_Pyramid_of_Giza, So true, Ramses II was 😎, Aliens built the pyramids obv, Ancient Egypt had an incredible esthetic that stands to this day, ☺️, Witch logic, Things we take for granted, like flying, would have had you burned at the stake for witchcraft not that long ago, Engineering is magic made real</td>\n",
       "      <td>Personal positive, Personal positive, Personal positive, Personal neutral, Personal neutral, Personal positive, Personal negative, Personal positive, Personal neutral</td>\n",
       "      <td>0.0</td>\n",
       "      <td>0.0</td>\n",
       "      <td>0.0</td>\n",
       "      <td>5.0</td>\n",
       "      <td>3.0</td>\n",
       "      <td>1.0</td>\n",
       "      <td>0.8663</td>\n",
       "      <td>NaN</td>\n",
       "      <td>NaN</td>\n",
       "      <td>NaN</td>\n",
       "      <td>NaN</td>\n",
       "      <td>NaN</td>\n",
       "      <td>NaN</td>\n",
       "      <td>Friday</td>\n",
       "    </tr>\n",
       "  </tbody>\n",
       "</table>\n",
       "</div>"
      ],
      "text/plain": [
       "           date  retweet_count  fav_count  tweetLen  \\\n",
       "2707 2020-07-27       154954.0  1337692.0     145.0   \n",
       "2708 2020-07-28         1245.0    28715.0      73.0   \n",
       "2709 2020-07-29         5303.0   100007.0      79.0   \n",
       "2710 2020-07-30        91933.0  1162051.0     309.0   \n",
       "2711 2020-07-31        85083.0   770873.0      70.0   \n",
       "\n",
       "                                                                                                                                                                                                                                                                                                                                                                                                                                                                                                                                                                                                                                                                                                                                                                                                                                                                                                                                                                                                                                                                                                                                                                                                                                                                                                                                                                                                                                                                                                                                                                                                                                                                                                                                                                                                                                                  tweet  \\\n",
       "2707                                                                                                                                                                                                                                                                                                                                                                                                                                                                                                                                                                                                                                                                                                                                                                                                                                                                                                                                       Whether commercial or government, monopolies are bad for the people, Sounds great, Haha, Das Kapital in a nutshell, What I like most is their great sense of humor, The left is losing the middle, Exactly, 🤣🤣, Hold my beer, Once an Onion, now a Rose, Wow, you think about me a lot!, You dropped this, 🌹, Haha, Giga Berlin will come together at an impossible-seeming speed. The prefabricated construction method in Germany is extremely impressive., Almost a decade ago. Original Dragon in background., Ya just can’t beat BR, Planet Claire is 🔥🔥, Fair point! Will discuss with team., He was amazing, Great song, Nickel is the biggest challenge for high-volume, long-range batteries! Australia & Canada are doing pretty well. US nickel production is objectively very lame. Indonesia 🇮🇩 is great!, 🤣🤣, That’s me! Haha, This has a lot of potential. Lithium is pretty much everywhere.   \n",
       "2708                                                                                                                                                                                                                                                                                                                                                                                                                                                                                                                                                                                                                                                                                                                                                                                                                                                                                                                                                                                                                                                                                                                                                                                                                                                                                                                                                                                                                                                Agreed, Haha, It’s a prototype of the color, And to think I used to like Bernie! 😢, @BernieSanders 🕊🕊, Maybe he’s feeling the bern haha, Fuel spin valve didn’t open. Will fix & try again tomorrow. Also, some odd TVC hydraulic pump behavior., I was just out at the launch pad. Connector damaged in the storm, but fixed now. Might be able to fire tonight or at least get to the next issue.   \n",
       "2709                                                                                                                                                                                                                                                                                                                                                                                                                                                                                                                                                                                                                                                                                                                                                                                                                                                                                                                                                                                                                                                                                                                                                                                                                                                                                                                                                                      😉, Sum > parts, Should add a few miles of range, more in slow traffic, The government has the most money by far. They talk in trillions., Haha no one can ever have our top secret fart technology!!, 💕 💕, Sure, Tesla is open to licensing software and supplying powertrains & batteries. We’re just trying to accelerate sustainable energy, not crush competitors!, What he doesn’t appear to appreciate is that government is just a monopolist corporation in the limit   \n",
       "2710  Lo Que Construimos, Cool, Starship SN5 just completed full duration static fire. 150m hop soon., 🖤🧛‍♀️Total Eclipse of the Heart 🧛‍♀️🖤, 😮, Not that I’m aware of, Yes. Could also extend range of hearing beyond normal frequencies and amplitudes. Deus Ex., Neuralinks are currently meant for mature brains & functionality is lost if removed. Rewiring of neurons is certainly possible, but won’t make up for loss of the Link., Yes, should be possible to create a neural shunt from motor cortex to microcontrollers in muscle groups & restore movement even if someone has a fully severed spinal cord. First part has already been demonstrated with Utah array, but not as an outpatient device., Will show neurons firing in real-time on August 28th. The matrix in the matrix., They don’t fire all at once. Some go several seconds to minutes without firing. Some fire several times per second. Very wide timing distribution., Congrats on a great launch!, But sometimes when we touch …, Adagio for Strings is great, Losing It, 🤣🤣, Mein Herz Brennt. Best boss battle song ever., Robot Heart is 🔥🔥, One of the all time best, Sure, Sure could use a good rave What’s your favorite techno, I … I just died in your arms tonight, The rumor that Bill Gates & I are lovers is completely untrue, Yeah. Display will also soon render Teslas specifically as their model & color instead of as a generic sedan/SUV. Has potential for a fun punch buggy sort of game., We’ve been working on this for about 4 years. Originally meant for rabies vaccine, but it can make pretty much anything that’s an RNA sequence. Critical path is completing human trials., 🎶 Billy G is not my lover 🎶, Sounds like he doesn’t realize Tesla makes the vaccine machine for CureVac, Thanks for letting me know. Will dig into it.   \n",
       "2711                                                                                                                                                                                                                                                                                                                                                                                                                                                                                                                                                                                                                                                                                                                                                                                                                                                                                                                                                                                                                                                                                                                                                                                                                                                                                                                                                                                The Great Pyramid was the tallest structure made by humans for 3800 years. Three thousand, eight hundred years. https://en.m.wikipedia.org/wiki/Great_Pyramid_of_Giza, So true, Ramses II was 😎, Aliens built the pyramids obv, Ancient Egypt had an incredible esthetic that stands to this day, ☺️, Witch logic, Things we take for granted, like flying, would have had you burned at the stake for witchcraft not that long ago, Engineering is magic made real   \n",
       "\n",
       "                                                                                                                                                                                                                                                                                                                                                                                                                                                                                                                                        tweetType  \\\n",
       "2707                                                              Personal negative, Personal positive, Personal positive, Personal neutral, Personal positive, Personal negative, Personal neutral, Personal neutral, Personal neutral, Personal neutral, Personal positive, Personal neutral, Personal neutral, Personal positive, Business positive, Business positive, Personal neutral, Personal neutral, Personal positive, Personal positive, Personal positive, Business positive, Personal neutral, Personal positive, Business positive   \n",
       "2708                                                                                                                                                                                                                                                                                                                                                                                         Personal positive, Personal positive, Personal neutral, Personal negative, Personal neutral, Personal positive, Personal negative, Business negative   \n",
       "2709                                                                                                                                                                                                                                                                                                                                                                         Personal neutral, Personal neutral, Personal neutral, Personal neutral, Personal positive, Personal neutral, Personal positive, Business positive, Personal positive   \n",
       "2710  Personal neutral, Personal positive, Business negative, Personal neutral, Personal neutral, Personal neutral, Personal positive, Business negative, Business positive, Business negative, Business negative, Business positive, Personal neutral, Personal positive, Personal negative, Personal neutral, Personal positive, Personal neutral, Personal positive, Personal positive, Personal positive, Personal negative, Personal positive, Business positive, Personal positive, Personal negative, Business positive, Personal positive   \n",
       "2711                                                                                                                                                                                                                                                                                                                                                                       Personal positive, Personal positive, Personal positive, Personal neutral, Personal neutral, Personal positive, Personal negative, Personal positive, Personal neutral   \n",
       "\n",
       "      Business positive  Business neutral  Business negative  \\\n",
       "2707                4.0               0.0                0.0   \n",
       "2708                0.0               0.0                1.0   \n",
       "2709                1.0               0.0                0.0   \n",
       "2710                4.0               0.0                4.0   \n",
       "2711                0.0               0.0                0.0   \n",
       "\n",
       "      Personal positive  Personal neutral  Personal negative  compound  \\\n",
       "2707                9.0              10.0                2.0    0.9896   \n",
       "2708                3.0               2.0                2.0   -0.1134   \n",
       "2709                3.0               5.0                0.0    0.8756   \n",
       "2710               10.0               7.0                3.0    0.9925   \n",
       "2711                5.0               3.0                1.0    0.8663   \n",
       "\n",
       "             High          Low    Open        Close      Volume    Adj Close  \\\n",
       "2707  1547.939941  1413.000000  1435.0  1539.599976  16048700.0  1476.489990   \n",
       "2708  1564.699951  1474.420044  1504.0  1476.489990  15808700.0  1499.109985   \n",
       "2709  1534.810059  1487.000000  1501.0  1499.109985   9426900.0  1487.489990   \n",
       "2710  1513.239990  1471.000000  1488.0  1487.489990   7621000.0  1430.760010   \n",
       "2711          NaN          NaN     NaN          NaN         NaN          NaN   \n",
       "\n",
       "      dayOfWeek  \n",
       "2707     Monday  \n",
       "2708    Tuesday  \n",
       "2709  Wednesday  \n",
       "2710   Thursday  \n",
       "2711     Friday  "
      ]
     },
     "execution_count": 131,
     "metadata": {},
     "output_type": "execute_result"
    }
   ],
   "source": [
    "elonDF.tail()"
   ]
  },
  {
   "cell_type": "code",
   "execution_count": 132,
   "metadata": {},
   "outputs": [],
   "source": [
    "#Visualize To see if we wrangled everything correctly \n",
    "import matplotlib.pyplot as plt\n",
    "import seaborn as sns\n",
    "plt.style.use('fivethirtyeight')"
   ]
  },
  {
   "cell_type": "code",
   "execution_count": 133,
   "metadata": {},
   "outputs": [
    {
     "data": {
      "image/png": "[encoded data removed]",
      "text/plain": [
       "<Figure size 432x288 with 1 Axes>"
      ]
     },
     "metadata": {},
     "output_type": "display_data"
    }
   ],
   "source": [
    "plt.plot(elonDF['date'], elonDF['Adj Close']);"
   ]
  },
  {
   "cell_type": "code",
   "execution_count": 134,
   "metadata": {},
   "outputs": [],
   "source": [
    "elonDF.to_json('data/elonMLDFV7.json')"
   ]
  },
  {
   "cell_type": "code",
   "execution_count": 121,
   "metadata": {},
   "outputs": [
    {
     "data": {
      "text/plain": [
       "2712"
      ]
     },
     "execution_count": 121,
     "metadata": {},
     "output_type": "execute_result"
    }
   ],
   "source": [
    "len(elonDF)"
   ]
  },
  {
   "cell_type": "code",
   "execution_count": null,
   "metadata": {},
   "outputs": [],
   "source": []
  }
 ],
 "metadata": {
  "kernelspec": {
   "display_name": "Python 3",
   "language": "python",
   "name": "python3"
  },
  "language_info": {
   "codemirror_mode": {
    "name": "ipython",
    "version": 3
   },
   "file_extension": ".py",
   "mimetype": "text/x-python",
   "name": "python",
   "nbconvert_exporter": "python",
   "pygments_lexer": "ipython3",
   "version": "3.7.4"
  }
 },
 "nbformat": 4,
 "nbformat_minor": 2
}
